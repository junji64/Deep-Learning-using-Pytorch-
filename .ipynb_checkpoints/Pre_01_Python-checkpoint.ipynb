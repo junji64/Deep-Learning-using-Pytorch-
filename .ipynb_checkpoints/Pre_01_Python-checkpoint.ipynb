{
 "cells": [
  {
   "cell_type": "markdown",
   "metadata": {},
   "source": [
    "# Python Tutorial\n",
    "- Hello World!\n",
    "- Variables and Types\n",
    "- Arithmetic Operations\n",
    "- List\n",
    "- Dictionary\n",
    "- Loop\n",
    "- Condition\n",
    "- Function\n",
    "- Class and Objects\n",
    "\n",
    "## 1. Hello World !"
   ]
  },
  {
   "cell_type": "code",
   "execution_count": 1,
   "metadata": {
    "collapsed": false
   },
   "outputs": [
    {
     "name": "stdout",
     "output_type": "stream",
     "text": [
      "Hello World!\n"
     ]
    }
   ],
   "source": [
    "print(\"Hello World!\")"
   ]
  },
  {
   "cell_type": "markdown",
   "metadata": {},
   "source": [
    "## 2. Variables and Types"
   ]
  },
  {
   "cell_type": "code",
   "execution_count": 7,
   "metadata": {
    "collapsed": false
   },
   "outputs": [
    {
     "name": "stdout",
     "output_type": "stream",
     "text": [
      "(2, <type 'int'>)\n",
      "(2.0, <type 'float'>)\n",
      "('Pytorch', <type 'str'>)\n",
      "(4.0, <type 'float'>)\n",
      "('2 Pytorch', <type 'str'>)\n"
     ]
    }
   ],
   "source": [
    "a = 2             # integer\n",
    "print(a, type(a))\n",
    "b = 2.0           # float\n",
    "print(b, type(b))\n",
    "c = \"Pytorch\"\n",
    "print(c, type(c))\n",
    "d = a + b \n",
    "print(d, type(d))\n",
    "e = str(a)+\" \"+c\n",
    "print(e, type(e))"
   ]
  },
  {
   "cell_type": "markdown",
   "metadata": {},
   "source": [
    "## 3. Arithmetic Operation"
   ]
  },
  {
   "cell_type": "code",
   "execution_count": 24,
   "metadata": {
    "collapsed": false
   },
   "outputs": [
    {
     "name": "stdout",
     "output_type": "stream",
     "text": [
      "a + b = 3\n",
      "a - b = -1\n",
      "b * c = 6\n",
      "b / c = 1\n",
      "b // c = 0\n",
      "b % c = 1\n",
      "b ** c = 8\n"
     ]
    }
   ],
   "source": [
    "a=1 \n",
    "b=2\n",
    "c=3\n",
    "\n",
    "print(\"a + b = \" + str(a+b))\n",
    "print(\"a - b = \" + str(a-b))\n",
    "print(\"b * c = \" + str(b*c))\n",
    "print(\"b / c = \" + str(c/b))\n",
    "print(\"b // c = \" + str(b//c))\n",
    "print(\"b % c = \" + str(c%b))\n",
    "print(\"b ** c = \" + str(b**c))"
   ]
  },
  {
   "cell_type": "markdown",
   "metadata": {},
   "source": [
    "## 4. List"
   ]
  },
  {
   "cell_type": "code",
   "execution_count": 33,
   "metadata": {
    "collapsed": false
   },
   "outputs": [
    {
     "name": "stdout",
     "output_type": "stream",
     "text": [
      "[1, 2, 3]\n",
      "[1, 2, 3, 4]\n",
      "[1, 2, 3, 4, 'a']\n",
      "[1, 2, 3, 4]\n",
      "[1, 3, 4, 'a']\n",
      "[1, 3, 4]\n"
     ]
    }
   ],
   "source": [
    "list_1 = [1, 2, 3]\n",
    "print(list_1)\n",
    "list_1.append(4)\n",
    "print(list_1)\n",
    "list_1.append(\"a\")\n",
    "print(list_1)\n",
    "print(list_1[:-1])\n",
    "del list_1[1]\n",
    "print(list_1)\n",
    "list_1.pop()\n",
    "print(list_1)"
   ]
  },
  {
   "cell_type": "markdown",
   "metadata": {},
   "source": [
    "## 5. Dictionary"
   ]
  },
  {
   "cell_type": "code",
   "execution_count": 37,
   "metadata": {
    "collapsed": false
   },
   "outputs": [
    {
     "name": "stdout",
     "output_type": "stream",
     "text": [
      "{'java': 1, 'python': 0, 'C++': 2, 'html': 4, 'key': 'value', 'ruby': 3}\n",
      "2\n",
      "{'java': 1, 'python': 0, 'C++': 2, 'html': 4, 'ruby': 3}\n",
      "{'java': 1, 'python': 0, 'C++': 2, 'pytorch': 5, 'html': 4, 'ruby': 3}\n"
     ]
    }
   ],
   "source": [
    "dict_1 = {\n",
    "    \"python\": 0,\n",
    "    \"java\":1,\n",
    "    \"C++\":2,\n",
    "    \"ruby\":3,\n",
    "    \"html\":4,\n",
    "    \"key\":\"value\"\n",
    "}\n",
    "print(dict_1)\n",
    "print(dict_1[\"C++\"])\n",
    "\n",
    "del dict_1[\"key\"]\n",
    "print(dict_1)\n",
    "\n",
    "dict_1[\"pytorch\"] = 5\n",
    "print(dict_1)"
   ]
  },
  {
   "cell_type": "markdown",
   "metadata": {},
   "source": [
    "## 6. Loop"
   ]
  },
  {
   "cell_type": "code",
   "execution_count": 39,
   "metadata": {
    "collapsed": false
   },
   "outputs": [
    {
     "name": "stdout",
     "output_type": "stream",
     "text": [
      "0\n",
      "1\n",
      "2\n",
      "3\n",
      "4\n",
      "\n",
      "\n",
      "0\n",
      "-1\n",
      "-2\n",
      "-3\n",
      "-4\n"
     ]
    }
   ],
   "source": [
    "for i in range(5):\n",
    "    print(i)\n",
    "print(\"\\n\")\n",
    "for i in range(0,-5,-1):\n",
    "    print(i)"
   ]
  },
  {
   "cell_type": "code",
   "execution_count": 40,
   "metadata": {
    "collapsed": false
   },
   "outputs": [
    {
     "name": "stdout",
     "output_type": "stream",
     "text": [
      "[1, 3, 4]\n",
      "1\n",
      "3\n",
      "4\n"
     ]
    }
   ],
   "source": [
    "print(list_1)\n",
    "for i in list_1:\n",
    "    print(i)"
   ]
  },
  {
   "cell_type": "code",
   "execution_count": 41,
   "metadata": {
    "collapsed": false
   },
   "outputs": [
    {
     "name": "stdout",
     "output_type": "stream",
     "text": [
      "{'java': 1, 'python': 0, 'C++': 2, 'pytorch': 5, 'html': 4, 'ruby': 3}\n",
      "('java', 1)\n",
      "('python', 0)\n",
      "('C++', 2)\n",
      "('pytorch', 5)\n",
      "('html', 4)\n",
      "('ruby', 3)\n"
     ]
    }
   ],
   "source": [
    "print(dict_1)\n",
    "for key in dict_1:\n",
    "    print(key, dict_1[key])"
   ]
  },
  {
   "cell_type": "code",
   "execution_count": 42,
   "metadata": {
    "collapsed": false
   },
   "outputs": [
    {
     "name": "stdout",
     "output_type": "stream",
     "text": [
      "0\n",
      "1\n",
      "2\n",
      "3\n",
      "4\n",
      "5\n",
      "6\n",
      "7\n",
      "8\n",
      "9\n"
     ]
    }
   ],
   "source": [
    "a = 0\n",
    "while (a<10):\n",
    "    print(a)\n",
    "    a += 1"
   ]
  },
  {
   "cell_type": "markdown",
   "metadata": {},
   "source": [
    "## 7. Condition"
   ]
  },
  {
   "cell_type": "code",
   "execution_count": null,
   "metadata": {
    "collapsed": true
   },
   "outputs": [],
   "source": []
  }
 ],
 "metadata": {
  "kernelspec": {
   "display_name": "Python 3",
   "language": "python",
   "name": "python3"
  },
  "language_info": {
   "codemirror_mode": {
    "name": "ipython",
    "version": 3
   },
   "file_extension": ".py",
   "mimetype": "text/x-python",
   "name": "python",
   "nbconvert_exporter": "python",
   "pygments_lexer": "ipython3",
   "version": "3.6.4"
  }
 },
 "nbformat": 4,
 "nbformat_minor": 2
}

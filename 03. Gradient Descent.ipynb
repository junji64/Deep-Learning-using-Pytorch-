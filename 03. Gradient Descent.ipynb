{
 "cells": [
  {
   "cell_type": "markdown",
   "metadata": {},
   "source": [
    "# Gradient Descent"
   ]
  },
  {
   "cell_type": "markdown",
   "metadata": {},
   "source": [
    "### Loss graph\n",
    "\n",
    "$$ \\text{loss}(w) = { 1 \\over N} \\sum^{N}_{n=1} (\\hat{y_n}-y_n)^2 = { 1 \\over N} \\sum^{N}_{n=1} (w*x_n - y_n)^2 $$"
   ]
  },
  {
   "cell_type": "code",
   "execution_count": 2,
   "metadata": {},
   "outputs": [
    {
     "data": {
      "image/png": "[encoded data removed]",
      "text/plain": [
       "<Figure size 432x288 with 1 Axes>"
      ]
     },
     "metadata": {},
     "output_type": "display_data"
    }
   ],
   "source": [
    "import numpy as np\n",
    "import matplotlib.pyplot as plt\n",
    "\n",
    "x_data = [1,  2,  3,  4,   5,   6,   7,   8]\n",
    "y_data = [2,3.2,6.3,8.2,10.5,11.5,14.5,15.5]\n",
    "\n",
    "# a lineadr model for the forward pass\n",
    "def forward(x):\n",
    "    return x * w\n",
    "\n",
    "# Loss function\n",
    "def loss(x, y):\n",
    "    y_pred = forward(x)\n",
    "    return (y_pred - y) * (y_pred - y)\n",
    "\n",
    "w_list = []\n",
    "mse_list = []\n",
    "\n",
    "for w in np.arange(0.0, 4.1, 0.1):\n",
    "    loss_sum = 0\n",
    "    for x, y in zip(x_data, y_data):\n",
    "        loss_val = loss(x,y)\n",
    "        loss_sum += loss_val\n",
    "    w_list.append(w)\n",
    "    mse_list.append(loss_sum / 8)\n",
    "    \n",
    "plt.plot(w_list, mse_list)\n",
    "plt.xlabel('w')\n",
    "plt.ylabel('Loss')\n",
    "plt.show()"
   ]
  },
  {
   "cell_type": "markdown",
   "metadata": {},
   "source": [
    "### What is the learning => find w that minimizes the loss\n",
    "\n",
    "$$ {\\min}_w  \\text{loss}(w) $$\n",
    "\n",
    "- 자동으로 loss가 최소가 되는 $w_{min}$을 구하는 방법론 ==> gradient descent\n",
    "- 우선은 $w_{min}$ 에 대한 임의 추정치를 $w_0$라고 한다. \n",
    "  - 만약에 $w_0$ 가 $w_{min}$ 보다 크게 추정되었다면, 그 곳에서의 loss 함수의 기울기(gradient) 는 양수가 되고,  $w_0$ 를 좀 더 작게 해주어야 목적인 $w_{min}$ 에 근접하게 된다 \n",
    "  - 만약에 $w_0$ 가 $w_{min}$ 보다 작게 추정되었다면, 그 곳에서의 loss 함수의 기울기(gradient) 는 음수가 되고,  $w_0$ 를 좀 더 크게 해주어야 목적인 $w_{min}$ 에 근접하게 된다 \n",
    "  \n",
    "- 이에 대한 그래픽스 필요함 !!! \n",
    "\n",
    "$$ \\text{Gradient} \\Rightarrow { \\partial \\text{loss} \\over \\partial w }$$\n",
    "$$ w = w - \\alpha {\\partial \\text{loss} \\over \\partial w}$$ \n",
    "\n",
    "$$ \\text{loss} = (\\hat{y} - y) ^2 = (w*x -y)^2 $$\n",
    "$$ {\\partial \\text{loss} \\over \\partial w} = 2x(w*x - y)$$\n",
    "$$ w = w - \\alpha * 2 * x (w*x - y)$$ "
   ]
  },
  {
   "cell_type": "markdown",
   "metadata": {},
   "source": [
    "$$  \\text{Gradient}  { \\partial \\text{loss} \\over \\partial w} $$\n",
    "\n",
    "$$ w = w - \\alpha { \\partial \\text{loss} \\over \\partial w } $$\n",
    "\n",
    "$$ \\text{loss} = (\\hat{y} - y)^2 = (w*x-y)^2 $$\n",
    "\n"
   ]
  },
  {
   "cell_type": "markdown",
   "metadata": {},
   "source": [
    "### Gradient descent algorithm\n",
    "\n",
    "\n",
    "$$ \\text{Gradient} \\Rightarrow \\Rightarrow { \\partial \\text{loss} \\over \\partial w }$$\n",
    "this\n",
    "$$ w = w - \\alpha {\\partial \\text{loss} \\over \\partial w}$$ \n",
    "\n",
    "$$ \\text{loss} = (\\hat{y} - y) ^2 = (w*x -y)^2 $$\n",
    "\n",
    "$$ {\\partial \\text{loss} \\over \\partial w} = 2x(w*x - y)$$\n",
    "this\n",
    "$$ w = w - \\alpha * 2 * x (w*x - y)$$ "
   ]
  },
  {
   "cell_type": "code",
   "execution_count": 5,
   "metadata": {},
   "outputs": [
    {
     "name": "stdout",
     "output_type": "stream",
     "text": [
      "progress: 0 w = 3.9549 loss = 260.483382\n",
      "progress: 10 w = 2.0196 loss = 0.430871\n",
      "progress: 20 w = 1.9924 loss = 0.19324\n",
      "progress: 30 w = 1.9921 loss = 0.19058\n",
      "progress: 40 w = 1.9921 loss = 0.190542\n",
      "predict (after training) 4 hours 7.968255510683977\n"
     ]
    }
   ],
   "source": [
    "import numpy as np\n",
    "import matplotlib.pyplot as plt\n",
    "\n",
    "x_data = [1,  2,  3,  4,   5,   6,   7,   8]\n",
    "y_data = [2,3.2,6.3,8.2,10.5,11.5,14.5,15.5]\n",
    "\n",
    "w = 5.0  # a random guess (i.e. random value)\n",
    "\n",
    "# a lineadr model for the forward pass\n",
    "def forward(x):\n",
    "    return x * w\n",
    "\n",
    "# Loss function\n",
    "def loss(x, y):\n",
    "    y_pred = forward(x)\n",
    "    return (y_pred - y) * (y_pred - y)\n",
    "\n",
    "def gradient(x, y):\n",
    "    return 2 * x * (x * w - y)\n",
    "\n",
    "for epoch in range(50):\n",
    "    for x, y in zip(x_data, y_data):\n",
    "        grad = gradient(x, y)\n",
    "        w = w - 0.001 * grad\n",
    "        # print('\\t grad:', x, y, round(grad, 6))\n",
    "        l = loss(x, y)\n",
    "    if (epoch%10 == 0) :    \n",
    "        print(\"progress:\", epoch, \"w =\", round(w,4), \"loss =\", round(l,6))\n",
    "        \n",
    "print(\"predict (after training)\", \"4 hours\", forward(4))"
   ]
  },
  {
   "cell_type": "markdown",
   "metadata": {},
   "source": [
    "### Exercise 3.1 : Compute gradient\n"
   ]
  },
  {
   "cell_type": "markdown",
   "metadata": {},
   "source": [
    "$$ \\hat{y} = x^2w_2 + xw_1 + b $$\n",
    "\n",
    "$$ \\text{loss} = (\\hat{y} - y)^2 = (x^2w_2 + xw_1 + b - y)^2 $$\n",
    "\n",
    "$$ {\\partial \\text{loss} \\over \\partial w_1 } =  2x(x^2w_2 + xw_1 + b - y)$$\n",
    "\n",
    "$$ {\\partial \\text{loss} \\over \\partial w_2 } = ? $$\n",
    "\n",
    "$$...$$"
   ]
  },
  {
   "cell_type": "markdown",
   "metadata": {},
   "source": [
    "$$ \\hat{y} = x^2w_2 + xw_1 + b $$\n",
    "\n",
    "$$ \\text{loss} = (\\hat{y} - y)^2 = (x^2w_2 + xw_1 + b - y)^2 $$\n",
    "\n",
    "$$ {\\partial \\text{loss} \\over \\partial w_1 } =  2x(x^2w_2 + xw_1 + b - y)$$\n",
    "\n",
    "$$ {\\partial \\text{loss} \\over \\partial w_2 } = ? $$\n",
    "\n",
    "$$...$$"
   ]
  },
  {
   "cell_type": "markdown",
   "metadata": {},
   "source": [
    "### Exercise 3.2 : implement\n"
   ]
  }
 ],
 "metadata": {
  "kernelspec": {
   "display_name": "Python 3",
   "language": "python",
   "name": "python3"
  },
  "language_info": {
   "codemirror_mode": {
    "name": "ipython",
    "version": 3
   },
   "file_extension": ".py",
   "mimetype": "text/x-python",
   "name": "python",
   "nbconvert_exporter": "python",
   "pygments_lexer": "ipython3",
   "version": "3.6.5"
  }
 },
 "nbformat": 4,
 "nbformat_minor": 2
}

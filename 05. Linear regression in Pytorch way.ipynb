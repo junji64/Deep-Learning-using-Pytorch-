{
 "cells": [
  {
   "cell_type": "markdown",
   "metadata": {},
   "source": [
    "# Linear regression in Pytorch way"
   ]
  },
  {
   "cell_type": "markdown",
   "metadata": {},
   "source": [
    "### PyTorch forward / Backward"
   ]
  },
  {
   "cell_type": "code",
   "execution_count": 35,
   "metadata": {},
   "outputs": [
    {
     "name": "stdout",
     "output_type": "stream",
     "text": [
      "\t grad:  tensor(-2.)\n",
      "\t grad:  tensor(-7.8400)\n",
      "\t grad:  tensor(-16.2288)\n",
      "progress: 0 loss:  tensor(7.3159)\n",
      "\t grad:  tensor(-1.4786)\n",
      "\t grad:  tensor(-5.7962)\n",
      "\t grad:  tensor(-11.9981)\n",
      "\t grad:  tensor(-1.0932)\n",
      "\t grad:  tensor(-4.2852)\n",
      "\t grad:  tensor(-8.8704)\n",
      "progress: 2 loss:  tensor(2.1857)\n",
      "\t grad:  tensor(-0.8082)\n",
      "\t grad:  tensor(-3.1681)\n",
      "\t grad:  tensor(-6.5580)\n",
      "\t grad:  tensor(-0.5975)\n",
      "\t grad:  tensor(-2.3422)\n",
      "\t grad:  tensor(-4.8484)\n",
      "progress: 4 loss:  tensor(0.6530)\n",
      "\t grad:  tensor(-0.4417)\n",
      "\t grad:  tensor(-1.7316)\n",
      "\t grad:  tensor(-3.5845)\n",
      "\t grad:  tensor(-0.3266)\n",
      "\t grad:  tensor(-1.2802)\n",
      "\t grad:  tensor(-2.6500)\n",
      "progress: 6 loss:  tensor(0.1951)\n",
      "\t grad:  tensor(-0.2414)\n",
      "\t grad:  tensor(-0.9465)\n",
      "\t grad:  tensor(-1.9592)\n",
      "\t grad:  tensor(-0.1785)\n",
      "\t grad:  tensor(-0.6997)\n",
      "\t grad:  tensor(-1.4485)\n",
      "progress: 8 loss:  tensor(0.0583)\n",
      "\t grad:  tensor(-0.1320)\n",
      "\t grad:  tensor(-0.5173)\n",
      "\t grad:  tensor(-1.0709)\n"
     ]
    }
   ],
   "source": [
    "import numpy as np\n",
    "import torch\n",
    "from torch.autograd import Variable\n",
    "\n",
    "x_data = Variable(torch.Tensor([[1.0], [2.0], [3.0]]))\n",
    "y_data = Variable(torch.Tensor([[2.0], [4.0], [6.0]]))\n",
    "\n",
    "w = Variable(torch.Tensor([1.0]), requires_grad=True)\n",
    "\n",
    "def forward(x):\n",
    "    return x * w\n",
    "\n",
    "def loss(x, y):\n",
    "    y_pred = forward(x)\n",
    "    return (y_pred - y) * (y_pred -y )\n",
    "\n",
    "for epoch in range(10):\n",
    "    for x, y in zip(x_data, y_data):\n",
    "        l = loss(x,y)\n",
    "        l.backward()\n",
    "        print(\"\\t grad: \", np.round(w.grad.data[0], 4))\n",
    "        w.data = w.data - 0.01 * w.grad.data\n",
    "        w.grad.data.zero_()\n",
    "    if epoch%2 == 0:\n",
    "        print(\"progress:\", epoch, \"loss: \", np.round(l.data[0], 4))\n",
    "    "
   ]
  },
  {
   "cell_type": "code",
   "execution_count": 32,
   "metadata": {},
   "outputs": [
    {
     "name": "stdout",
     "output_type": "stream",
     "text": [
      "0 67.7219\n",
      "50 0.1069\n",
      "100 0.0519\n",
      "150 0.0251\n",
      "200 0.0122\n",
      "250 0.0059\n",
      "300 0.0029\n",
      "350 0.0014\n",
      "400 0.0007\n",
      "450 0.0003\n",
      "predict (after training) 4 tensor(7.9854)\n"
     ]
    }
   ],
   "source": [
    "import numpy as np\n",
    "import torch\n",
    "from torch.autograd import Variable\n",
    "\n",
    "x_data = Variable(torch.Tensor([[1.0], [2.0], [3.0]]))\n",
    "y_data = Variable(torch.Tensor([[2.0], [4.0], [6.0]]))\n",
    "\n",
    "class Model(torch.nn.Module):\n",
    "    def __init__(self):\n",
    "        super(Model, self).__init__()\n",
    "        self.linear = torch.nn.Linear(1,1)\n",
    "        \n",
    "    def forward(self, x):\n",
    "        y_pred = self.linear(x)\n",
    "        return y_pred\n",
    "\n",
    "model = Model()\n",
    "    \n",
    "criterion = torch.nn.MSELoss(reduction=\"sum\")\n",
    "optimizer = torch.optim.SGD(model.parameters(), lr=0.01)\n",
    "\n",
    "for epoch in range(500):\n",
    "    y_pred = model(x_data)\n",
    "    loss = criterion(y_pred, y_data)\n",
    "    if epoch%50 == 0:\n",
    "        print(epoch, np.round(loss.item(),4))\n",
    "    optimizer.zero_grad()\n",
    "    loss.backward()\n",
    "    optimizer.step()\n",
    "\n",
    "hour_var = Variable(torch.Tensor([[4.0]]))\n",
    "print(\"predict (after training)\", 4, model.forward(hour_var).data[0][0])"
   ]
  },
  {
   "cell_type": "markdown",
   "metadata": {},
   "source": [
    "### PyTorch Rhythm\n",
    "\n",
    "1. Design you model using **class** with **Variables**\n",
    "2. Construct **loss** and **optimizer** (select from pytorch API)\n",
    "3. Training cycle ( **forward**, **backward**, **update**)"
   ]
  },
  {
   "cell_type": "code",
   "execution_count": 12,
   "metadata": {},
   "outputs": [
    {
     "name": "stdout",
     "output_type": "stream",
     "text": [
      "0 tensor(80.6003)\n",
      "50 tensor(0.2680)\n",
      "100 tensor(0.1300)\n",
      "150 tensor(0.0630)\n",
      "200 tensor(0.0306)\n",
      "250 tensor(0.0148)\n",
      "300 tensor(0.0072)\n",
      "350 tensor(0.0035)\n",
      "400 tensor(0.0017)\n",
      "450 tensor(0.0008)\n",
      "predict (after training) 4 tensor(7.9769)\n"
     ]
    },
    {
     "name": "stderr",
     "output_type": "stream",
     "text": [
      "C:\\Anaconda3\\lib\\site-packages\\ipykernel_launcher.py:38: UserWarning: invalid index of a 0-dim tensor. This will be an error in PyTorch 0.5. Use tensor.item() to convert a 0-dim tensor to a Python number\n"
     ]
    }
   ],
   "source": [
    "import torch\n",
    "from torch.autograd import Variable\n",
    "\n",
    "x_data = Variable(torch.Tensor([[1.0], [2.0], [3.0]]))\n",
    "y_data = Variable(torch.Tensor([[2.0], [4.0], [6.0]]))\n",
    "\n",
    "class Model(torch.nn.Module):\n",
    "    def __init__(self):\n",
    "        \"\"\"\n",
    "        In the constructor we instantiate two nn.Linear moduel\n",
    "        \"\"\"\n",
    "        super(Model, self).__init__()\n",
    "        self.linear = torch.nn.Linear(1,1)  # One in and one out\n",
    "        \n",
    "    def forward(self, x):\n",
    "        \"\"\"\n",
    "        In the forward function we accept a Variable of initial data and we must return\n",
    "        a variable of output data We can use Module\n",
    "        \"\"\"\n",
    "        y_pred = self.linear(x)\n",
    "        return y_pred\n",
    "    \n",
    "    # out model\n",
    "model = Model()\n",
    "    \n",
    "    # Construct our loss function and an Optimizer. The call to model.\n",
    "    # in the SGD constructor will contain the learnable parameters of the two nn.Linear\n",
    "    #\n",
    "criterion = torch.nn.MSELoss(reduction='sum')\n",
    "optimizer = torch.optim.SGD(model.parameters(), lr=0.01)\n",
    "        \n",
    "    # Training loop\n",
    "for epoch in range(500):\n",
    "    y_pred = model(x_data)\n",
    "        \n",
    "    loss = criterion(y_pred, y_data)\n",
    "    if epoch%50 == 0:\n",
    "        print(epoch, loss.data[0])\n",
    "        \n",
    "    optimizer.zero_grad()\n",
    "    loss.backward()\n",
    "    optimizer.step()\n",
    "        \n",
    "hour_var = Variable(torch.Tensor([[4.0]]))\n",
    "print(\"predict (after training)\", 4, model.forward(hour_var).data[0][0])\n",
    "        "
   ]
  },
  {
   "cell_type": "markdown",
   "metadata": {},
   "source": [
    "### Exercise 5.1: Try other optimizers\n",
    "\n",
    "- torch.optim.Adagrad\n",
    "- torch.optim.Adam\n",
    "- torch.optim.Adamax\n",
    "- torch.optim.ASGD\n",
    "- toech.optim.LBFGS\n",
    "- torch.optim.RMSprop\n",
    "- torch.optim.Rprop\n",
    "- torch.optim.SGD\n"
   ]
  },
  {
   "cell_type": "code",
   "execution_count": null,
   "metadata": {},
   "outputs": [],
   "source": []
  }
 ],
 "metadata": {
  "kernelspec": {
   "display_name": "Python 3",
   "language": "python",
   "name": "python3"
  },
  "language_info": {
   "codemirror_mode": {
    "name": "ipython",
    "version": 3
   },
   "file_extension": ".py",
   "mimetype": "text/x-python",
   "name": "python",
   "nbconvert_exporter": "python",
   "pygments_lexer": "ipython3",
   "version": "3.6.5"
  }
 },
 "nbformat": 4,
 "nbformat_minor": 2
}

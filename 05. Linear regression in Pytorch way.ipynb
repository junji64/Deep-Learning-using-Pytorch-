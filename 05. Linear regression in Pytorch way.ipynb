{
 "cells": [
  {
   "cell_type": "markdown",
   "metadata": {},
   "source": [
    "# Linear regression in Pytorch way"
   ]
  },
  {
   "cell_type": "markdown",
   "metadata": {},
   "source": [
    "### PyTorch forward / Backward"
   ]
  },
  {
   "cell_type": "code",
   "execution_count": 35,
   "metadata": {},
   "outputs": [
    {
     "name": "stdout",
     "output_type": "stream",
     "text": [
      "\t grad:  tensor(-2.)\n",
      "\t grad:  tensor(-7.8400)\n",
      "\t grad:  tensor(-16.2288)\n",
      "progress: 0 loss:  tensor(7.3159)\n",
      "\t grad:  tensor(-1.4786)\n",
      "\t grad:  tensor(-5.7962)\n",
      "\t grad:  tensor(-11.9981)\n",
      "\t grad:  tensor(-1.0932)\n",
      "\t grad:  tensor(-4.2852)\n",
      "\t grad:  tensor(-8.8704)\n",
      "progress: 2 loss:  tensor(2.1857)\n",
      "\t grad:  tensor(-0.8082)\n",
      "\t grad:  tensor(-3.1681)\n",
      "\t grad:  tensor(-6.5580)\n",
      "\t grad:  tensor(-0.5975)\n",
      "\t grad:  tensor(-2.3422)\n",
      "\t grad:  tensor(-4.8484)\n",
      "progress: 4 loss:  tensor(0.6530)\n",
      "\t grad:  tensor(-0.4417)\n",
      "\t grad:  tensor(-1.7316)\n",
      "\t grad:  tensor(-3.5845)\n",
      "\t grad:  tensor(-0.3266)\n",
      "\t grad:  tensor(-1.2802)\n",
      "\t grad:  tensor(-2.6500)\n",
      "progress: 6 loss:  tensor(0.1951)\n",
      "\t grad:  tensor(-0.2414)\n",
      "\t grad:  tensor(-0.9465)\n",
      "\t grad:  tensor(-1.9592)\n",
      "\t grad:  tensor(-0.1785)\n",
      "\t grad:  tensor(-0.6997)\n",
      "\t grad:  tensor(-1.4485)\n",
      "progress: 8 loss:  tensor(0.0583)\n",
      "\t grad:  tensor(-0.1320)\n",
      "\t grad:  tensor(-0.5173)\n",
      "\t grad:  tensor(-1.0709)\n"
     ]
    }
   ],
   "source": [
    "import numpy as np\n",
    "import torch\n",
    "from torch.autograd import Variable\n",
    "\n",
    "x_data = Variable(torch.Tensor([[1.0], [2.0], [3.0]]))\n",
    "y_data = Variable(torch.Tensor([[2.0], [4.0], [6.0]]))\n",
    "\n",
    "w = Variable(torch.Tensor([1.0]), requires_grad=True)\n",
    "\n",
    "def forward(x):\n",
    "    return x * w\n",
    "\n",
    "def loss(x, y):\n",
    "    y_pred = forward(x)\n",
    "    return (y_pred - y) * (y_pred -y )\n",
    "\n",
    "for epoch in range(10):\n",
    "    for x, y in zip(x_data, y_data):\n",
    "        l = loss(x,y)\n",
    "        l.backward()\n",
    "        print(\"\\t grad: \", np.round(w.grad.data[0], 4))\n",
    "        w.data = w.data - 0.01 * w.grad.data\n",
    "        w.grad.data.zero_()\n",
    "    if epoch%2 == 0:\n",
    "        print(\"progress:\", epoch, \"loss: \", np.round(l.data[0], 4))\n",
    "    "
   ]
  },
  {
   "cell_type": "code",
   "execution_count": 32,
   "metadata": {},
   "outputs": [
    {
     "name": "stdout",
     "output_type": "stream",
     "text": [
      "0 67.7219\n",
      "50 0.1069\n",
      "100 0.0519\n",
      "150 0.0251\n",
      "200 0.0122\n",
      "250 0.0059\n",
      "300 0.0029\n",
      "350 0.0014\n",
      "400 0.0007\n",
      "450 0.0003\n",
      "predict (after training) 4 tensor(7.9854)\n"
     ]
    }
   ],
   "source": [
    "import numpy as np\n",
    "import torch\n",
    "from torch.autograd import Variable\n",
    "\n",
    "x_data = Variable(torch.Tensor([[1.0], [2.0], [3.0]]))\n",
    "y_data = Variable(torch.Tensor([[2.0], [4.0], [6.0]]))\n",
    "\n",
    "class Model(torch.nn.Module):\n",
    "    def __init__(self):\n",
    "        super(Model, self).__init__()\n",
    "        self.linear = torch.nn.Linear(1,1)\n",
    "        \n",
    "    def forward(self, x):\n",
    "        y_pred = self.linear(x)\n",
    "        return y_pred\n",
    "\n",
    "model = Model()\n",
    "    \n",
    "criterion = torch.nn.MSELoss(reduction=\"sum\")\n",
    "optimizer = torch.optim.SGD(model.parameters(), lr=0.01)\n",
    "\n",
    "for epoch in range(500):\n",
    "    y_pred = model(x_data)\n",
    "    loss = criterion(y_pred, y_data)\n",
    "    if epoch%50 == 0:\n",
    "        print(epoch, np.round(loss.item(),4))\n",
    "    optimizer.zero_grad()\n",
    "    loss.backward()\n",
    "    optimizer.step()\n",
    "\n",
    "hour_var = Variable(torch.Tensor([[4.0]]))\n",
    "print(\"predict (after training)\", 4, model.forward(hour_var).data[0][0])"
   ]
  },
  {
   "cell_type": "markdown",
   "metadata": {},
   "source": [
    "### PyTorch Rhythm\n",
    "\n",
    "1. Design you model using **class** with **Variables**\n",
    "2. Construct **loss** and **optimizer**\n",
    "3. Training cycle ( **forward**, **backward**, **update**)"
   ]
  },
  {
   "cell_type": "code",
   "execution_count": null,
   "metadata": {},
   "outputs": [],
   "source": []
  },
  {
   "cell_type": "code",
   "execution_count": null,
   "metadata": {},
   "outputs": [],
   "source": []
  }
 ],
 "metadata": {
  "kernelspec": {
   "display_name": "Python 3",
   "language": "python",
   "name": "python3"
  },
  "language_info": {
   "codemirror_mode": {
    "name": "ipython",
    "version": 3
   },
   "file_extension": ".py",
   "mimetype": "text/x-python",
   "name": "python",
   "nbconvert_exporter": "python",
   "pygments_lexer": "ipython3",
   "version": "3.6.5"
  }
 },
 "nbformat": 4,
 "nbformat_minor": 2
}

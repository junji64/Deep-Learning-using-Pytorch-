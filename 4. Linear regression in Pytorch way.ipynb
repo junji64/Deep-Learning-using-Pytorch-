{
 "cells": [
  {
   "cell_type": "markdown",
   "metadata": {},
   "source": [
    "# Linear regression in Pytorch way"
   ]
  },
  {
   "cell_type": "markdown",
   "metadata": {},
   "source": [
    "### PyTorch forward / Backward"
   ]
  },
  {
   "cell_type": "code",
   "execution_count": 9,
   "metadata": {
    "collapsed": false
   },
   "outputs": [
    {
     "name": "stdout",
     "output_type": "stream",
     "text": [
      "\t grad:  -2.0\n",
      "\t grad:  -7.84\n",
      "\t grad:  -16.2288\n",
      "progress: 0 7.3159\n",
      "\t grad:  -1.4786\n",
      "\t grad:  -5.7962\n",
      "\t grad:  -11.9981\n",
      "progress: 1 3.9988\n",
      "\t grad:  -1.0932\n",
      "\t grad:  -4.2852\n",
      "\t grad:  -8.8704\n",
      "progress: 2 2.1857\n",
      "\t grad:  -0.8082\n",
      "\t grad:  -3.1681\n",
      "\t grad:  -6.558\n",
      "progress: 3 1.1946\n",
      "\t grad:  -0.5975\n",
      "\t grad:  -2.3422\n",
      "\t grad:  -4.8484\n",
      "progress: 4 0.653\n",
      "\t grad:  -0.4417\n",
      "\t grad:  -1.7316\n",
      "\t grad:  -3.5845\n",
      "progress: 5 0.3569\n",
      "\t grad:  -0.3266\n",
      "\t grad:  -1.2802\n",
      "\t grad:  -2.65\n",
      "progress: 6 0.1951\n",
      "\t grad:  -0.2414\n",
      "\t grad:  -0.9465\n",
      "\t grad:  -1.9592\n",
      "progress: 7 0.1066\n",
      "\t grad:  -0.1785\n",
      "\t grad:  -0.6997\n",
      "\t grad:  -1.4485\n",
      "progress: 8 0.0583\n",
      "\t grad:  -0.132\n",
      "\t grad:  -0.5173\n",
      "\t grad:  -1.0709\n",
      "progress: 9 0.0319\n"
     ]
    }
   ],
   "source": [
    "import torch\n",
    "from torch.autograd import Variable\n",
    "\n",
    "x_data = Variable(torch.Tensor([[1.0], [2.0], [3.0]]))\n",
    "y_data = Variable(torch.Tensor([[2.0], [4.0], [6.0]]))\n",
    "\n",
    "w = Variable(torch.Tensor([1.0]), requires_grad=True)\n",
    "\n",
    "def forward(x):\n",
    "    return x * w\n",
    "\n",
    "def loss(x, y):\n",
    "    y_pred = forward(x)\n",
    "    return (y_pred - y) * (y_pred -y )\n",
    "\n",
    "for epoch in range(10):\n",
    "    for x, y in zip(x_data, y_data):\n",
    "        l = loss(x,y)\n",
    "        l.backward()\n",
    "        print(\"\\t grad: \", round(w.grad.data[0], 4))\n",
    "        w.data = w.data - 0.01 * w.grad.data\n",
    "        w.grad.data.zero_()\n",
    "    print(\"progress:\", epoch, round(l.data[0], 4))\n",
    "    "
   ]
  },
  {
   "cell_type": "markdown",
   "metadata": {},
   "source": [
    "### PyTorch Rhythm\n",
    "\n",
    "1. Design you model using **class** with **Variables**\n",
    "2. Construct **loss** and **optimizer**\n",
    "3. Training cycle ( **forward**, **backward**, **update**)"
   ]
  },
  {
   "cell_type": "code",
   "execution_count": null,
   "metadata": {
    "collapsed": true
   },
   "outputs": [],
   "source": []
  }
 ],
 "metadata": {
  "kernelspec": {
   "display_name": "Python 3",
   "language": "python",
   "name": "python3"
  },
  "language_info": {
   "codemirror_mode": {
    "name": "ipython",
    "version": 3
   },
   "file_extension": ".py",
   "mimetype": "text/x-python",
   "name": "python",
   "nbconvert_exporter": "python",
   "pygments_lexer": "ipython3",
   "version": "3.6.4"
  }
 },
 "nbformat": 4,
 "nbformat_minor": 2
}

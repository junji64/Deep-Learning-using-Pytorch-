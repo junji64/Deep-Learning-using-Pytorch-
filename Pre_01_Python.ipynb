{
 "cells": [
  {
   "cell_type": "markdown",
   "metadata": {},
   "source": [
    "# Python Tutorial\n",
    "- Hello World!\n",
    "- Variables and Types\n",
    "- Arithmetic Operations\n",
    "- List\n",
    "- Dictionary\n",
    "- Loop\n",
    "- Condition\n",
    "- Function\n",
    "- Class and Objects\n",
    "\n",
    "## 1. Hello World !"
   ]
  },
  {
   "cell_type": "code",
   "execution_count": 1,
   "metadata": {
    "collapsed": false
   },
   "outputs": [
    {
     "name": "stdout",
     "output_type": "stream",
     "text": [
      "Hello World!\n"
     ]
    }
   ],
   "source": [
    "print(\"Hello World!\")"
   ]
  },
  {
   "cell_type": "markdown",
   "metadata": {},
   "source": [
    "## 2. Variables and Types"
   ]
  },
  {
   "cell_type": "code",
   "execution_count": 2,
   "metadata": {
    "collapsed": false
   },
   "outputs": [
    {
     "name": "stdout",
     "output_type": "stream",
     "text": [
      "2 <class 'int'>\n",
      "2.0 <class 'float'>\n",
      "Python <class 'str'>\n",
      "4.0 <class 'float'>\n",
      "2 Python <class 'str'>\n"
     ]
    }
   ],
   "source": [
    "a = 2             # integer\n",
    "print(a, type(a))\n",
    "b = 2.0           # float\n",
    "print(b, type(b))\n",
    "c = \"Python\"\n",
    "print(c, type(c))\n",
    "d = a + b \n",
    "print(d, type(d))\n",
    "e = str(a)+\" \"+c\n",
    "print(e, type(e))"
   ]
  },
  {
   "cell_type": "markdown",
   "metadata": {},
   "source": [
    "## 3. Arithmetic Operation"
   ]
  },
  {
   "cell_type": "code",
   "execution_count": 9,
   "metadata": {
    "collapsed": false
   },
   "outputs": [
    {
     "name": "stdout",
     "output_type": "stream",
     "text": [
      "a + b = 3\n",
      "a - b = -1\n",
      "b * c = 6\n",
      "b / c = 0.6666666666666666\n",
      "c // b = 1\n",
      "c % b = 1\n",
      "b ** c = 8\n"
     ]
    }
   ],
   "source": [
    "a=1 ; b=2; c=3\n",
    "\n",
    "print(\"a + b = \" + str(a + b))\n",
    "print(\"a - b = \" + str(a - b))\n",
    "print(\"b * c = \" + str(b * c))\n",
    "print(\"b / c = \" + str(b / c))\n",
    "print(\"c // b = \" + str(c // b))\n",
    "print(\"c % b = \" + str(c % b))\n",
    "print(\"b ** c = \" + str(b ** c))"
   ]
  },
  {
   "cell_type": "markdown",
   "metadata": {},
   "source": [
    "## 4. List"
   ]
  },
  {
   "cell_type": "code",
   "execution_count": 18,
   "metadata": {
    "collapsed": false
   },
   "outputs": [
    {
     "name": "stdout",
     "output_type": "stream",
     "text": [
      "[1, 2, 3]\n",
      "[1, 2, 3, 4]\n",
      "[1, 2, 3, 4, 'a']\n",
      "[1, 2]\n",
      "[1, 3, 4, 'a']\n",
      "[1, 3, 4]\n"
     ]
    }
   ],
   "source": [
    "list_1 = [1, 2, 3]\n",
    "print(list_1)\n",
    "list_1.append(4)\n",
    "print(list_1)\n",
    "list_1.append(\"a\")\n",
    "print(list_1)\n",
    "print(list_1[:2])\n",
    "del list_1[1]\n",
    "print(list_1)\n",
    "list_1.pop()\n",
    "print(list_1)"
   ]
  },
  {
   "cell_type": "markdown",
   "metadata": {},
   "source": [
    "## 5. Dictionary"
   ]
  },
  {
   "cell_type": "code",
   "execution_count": 22,
   "metadata": {
    "collapsed": false
   },
   "outputs": [
    {
     "name": "stdout",
     "output_type": "stream",
     "text": [
      "{'python': 0, 'java': 1, 'C++': 2, 'ruby': 3, 'html': 4, 'key': 'value'}\n",
      "2\n",
      "{'python': 0, 'java': 1, 'C++': 2, 'ruby': 3, 'key': 'value'}\n",
      "{'python': 0, 'java': 1, 'C++': 2, 'ruby': 4, 'key': 'value'}\n",
      "{'python': 0, 'java': 1, 'C++': 2, 'ruby': 4, 'key': 'value', 'pytorch': 5}\n"
     ]
    }
   ],
   "source": [
    "dict_1 = {\n",
    "    \"python\": 0,\n",
    "    \"java\":1,\n",
    "    \"C++\":2,\n",
    "    \"ruby\":3,\n",
    "    \"html\":4,\n",
    "    \"key\":\"value\"\n",
    "}\n",
    "print(dict_1)\n",
    "print(dict_1[\"C++\"])\n",
    "\n",
    "del dict_1[\"html\"]    # delete an element\n",
    "print(dict_1)\n",
    "\n",
    "dict_1[\"ruby\"] = 4    # modify an element\n",
    "print(dict_1)\n",
    "\n",
    "dict_1[\"pytorch\"] = 5    # include an element\n",
    "print(dict_1)"
   ]
  },
  {
   "cell_type": "markdown",
   "metadata": {},
   "source": [
    "## 6. Loop"
   ]
  },
  {
   "cell_type": "code",
   "execution_count": 23,
   "metadata": {
    "collapsed": false
   },
   "outputs": [
    {
     "name": "stdout",
     "output_type": "stream",
     "text": [
      "0\n",
      "1\n",
      "2\n",
      "3\n",
      "4\n",
      "\n",
      "\n",
      "0\n",
      "-1\n",
      "-2\n",
      "-3\n",
      "-4\n"
     ]
    }
   ],
   "source": [
    "for i in range(5):\n",
    "    print(i)\n",
    "print(\"\\n\")\n",
    "for i in range(0,-5,-1):\n",
    "    print(i)"
   ]
  },
  {
   "cell_type": "code",
   "execution_count": 24,
   "metadata": {
    "collapsed": false
   },
   "outputs": [
    {
     "name": "stdout",
     "output_type": "stream",
     "text": [
      "[1, 3, 4]\n",
      "1\n",
      "3\n",
      "4\n"
     ]
    }
   ],
   "source": [
    "print(list_1)\n",
    "for i in list_1:\n",
    "    print(i)"
   ]
  },
  {
   "cell_type": "code",
   "execution_count": 25,
   "metadata": {
    "collapsed": false
   },
   "outputs": [
    {
     "name": "stdout",
     "output_type": "stream",
     "text": [
      "{'python': 0, 'java': 1, 'C++': 2, 'ruby': 4, 'key': 'value', 'pytorch': 5}\n",
      "python 0\n",
      "java 1\n",
      "C++ 2\n",
      "ruby 4\n",
      "key value\n",
      "pytorch 5\n"
     ]
    }
   ],
   "source": [
    "print(dict_1)\n",
    "for key in dict_1:\n",
    "    print(key, dict_1[key])"
   ]
  },
  {
   "cell_type": "code",
   "execution_count": 26,
   "metadata": {
    "collapsed": false,
    "scrolled": true
   },
   "outputs": [
    {
     "name": "stdout",
     "output_type": "stream",
     "text": [
      "0\n",
      "1\n",
      "2\n",
      "3\n",
      "4\n"
     ]
    }
   ],
   "source": [
    "a = 0\n",
    "while (a < 5):\n",
    "    print(a)\n",
    "    a += 1"
   ]
  },
  {
   "cell_type": "markdown",
   "metadata": {},
   "source": [
    "## 7. Condition"
   ]
  },
  {
   "cell_type": "code",
   "execution_count": 28,
   "metadata": {
    "collapsed": false
   },
   "outputs": [
    {
     "name": "stdout",
     "output_type": "stream",
     "text": [
      "True\n",
      "False\n",
      "False\n",
      "True\n",
      "False\n",
      "True\n"
     ]
    }
   ],
   "source": [
    "print(2==2)\n",
    "print(2==3)\n",
    "print(2!=2)\n",
    "print(2!=3)\n",
    "print(2>=3)\n",
    "print(2<=3)"
   ]
  },
  {
   "cell_type": "code",
   "execution_count": 29,
   "metadata": {
    "collapsed": false
   },
   "outputs": [
    {
     "name": "stdout",
     "output_type": "stream",
     "text": [
      "{'python': 0, 'java': 1, 'C++': 2, 'ruby': 4, 'key': 'value', 'pytorch': 5}\n",
      "not ruby\n",
      "not ruby\n",
      "not ruby\n",
      "4\n",
      "not ruby\n",
      "not ruby\n"
     ]
    }
   ],
   "source": [
    "print(dict_1)\n",
    "for key in dict_1:\n",
    "    if key==\"ruby\":\n",
    "        print(dict_1[key])\n",
    "    else:\n",
    "        print(\"not ruby\")"
   ]
  },
  {
   "cell_type": "markdown",
   "metadata": {},
   "source": [
    "## 8. Function"
   ]
  },
  {
   "cell_type": "code",
   "execution_count": 30,
   "metadata": {
    "collapsed": false
   },
   "outputs": [
    {
     "name": "stdout",
     "output_type": "stream",
     "text": [
      "120\n"
     ]
    }
   ],
   "source": [
    "def factorial(num):\n",
    "    result = 1\n",
    "    for i in range(1,num+1):\n",
    "        result = result * i\n",
    "    return result\n",
    "\n",
    "print(factorial(5))"
   ]
  },
  {
   "cell_type": "markdown",
   "metadata": {},
   "source": [
    "## 9. Class and Objects"
   ]
  },
  {
   "cell_type": "code",
   "execution_count": 31,
   "metadata": {
    "collapsed": false
   },
   "outputs": [
    {
     "name": "stdout",
     "output_type": "stream",
     "text": [
      "Anakin Skywalker\n",
      "R2D2\n",
      "10\n"
     ]
    }
   ],
   "source": [
    "class Jedi(object):\n",
    "    def __init__(self, name, droid):\n",
    "        self.name = name\n",
    "        self.droid = droid\n",
    "        self.exp = 0\n",
    "        \n",
    "    def train(self):\n",
    "        self.exp += 10\n",
    "        \n",
    "anakin = Jedi(\"Anakin Skywalker\", \"R2D2\")\n",
    "anakin.train()\n",
    "\n",
    "print(anakin.name)\n",
    "print(anakin.droid)\n",
    "print(anakin.exp)"
   ]
  },
  {
   "cell_type": "code",
   "execution_count": null,
   "metadata": {
    "collapsed": true
   },
   "outputs": [],
   "source": []
  }
 ],
 "metadata": {
  "kernelspec": {
   "display_name": "Python 3",
   "language": "python",
   "name": "python3"
  },
  "language_info": {
   "codemirror_mode": {
    "name": "ipython",
    "version": 3
   },
   "file_extension": ".py",
   "mimetype": "text/x-python",
   "name": "python",
   "nbconvert_exporter": "python",
   "pygments_lexer": "ipython3",
   "version": "3.6.4"
  }
 },
 "nbformat": 4,
 "nbformat_minor": 2
}

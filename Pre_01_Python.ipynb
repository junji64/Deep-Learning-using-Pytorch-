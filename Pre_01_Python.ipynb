{
 "cells": [
  {
   "cell_type": "markdown",
   "metadata": {},
   "source": [
    "# Python Tutorial\n",
    "[from [cs231n's python tutorial](http://cs231n.github.io/python-numpy-tutorial/)]\n",
    "\n",
    "우리는 이 과정의 모든 과제에 파이썬 프로그래밍 언어를 사용할 것입니다. 파이썬은 그 자체로 훌륭한 범용 프로그래밍 언어이면서, 몇 가지 인기있는 라이브러리 (numpy, scipy, matplotlib)의 도움을 받아 과학 컴퓨팅을 위한 강력한 환경을 제공합니다.\n",
    "\n",
    "- Hello World!\n",
    "- Numbers\n",
    "- Booleans\n",
    "- Strings\n",
    "- Containers\n",
    "  - List\n",
    "  - Dictionary\n",
    "- Function\n",
    "- Class and Objects\n",
    "\n",
    "## 1. Hello World !"
   ]
  },
  {
   "cell_type": "code",
   "execution_count": 67,
   "metadata": {},
   "outputs": [
    {
     "name": "stdout",
     "output_type": "stream",
     "text": [
      "Hello World!\n"
     ]
    }
   ],
   "source": [
    "print(\"Hello World!\")"
   ]
  },
  {
   "cell_type": "markdown",
   "metadata": {},
   "source": [
    "## 2. Nubmers"
   ]
  },
  {
   "cell_type": "code",
   "execution_count": 68,
   "metadata": {},
   "outputs": [
    {
     "name": "stdout",
     "output_type": "stream",
     "text": [
      "5 <class 'int'>\n",
      "6\n",
      "4\n",
      "10\n",
      "25\n",
      "2.5\n",
      "2\n",
      "1\n",
      "6\n",
      "12\n",
      "2.5 <class 'float'>\n",
      "2.5 3.5 5.0 6.25\n"
     ]
    }
   ],
   "source": [
    "x = 5             # integer\n",
    "print(x, type(x))\n",
    "print(x + 1)\n",
    "print(x - 1)\n",
    "print(x * 2)\n",
    "print(x ** 2)\n",
    "print(x / 2)   # \n",
    "print(x // 2)  # 몫(  )\n",
    "print(x % 2)   # 나머지(remnant)\n",
    "x += 1; print(x)\n",
    "x *= 2; print(x)\n",
    "#=============================\n",
    "y = 2.5           # float\n",
    "print(y, type(y))\n",
    "print(y, y + 1, y * 2, y ** 2)"
   ]
  },
  {
   "cell_type": "markdown",
   "metadata": {},
   "source": [
    "주의 : 많은 다른 언어와 달리 파이썬에는 단항 증가 (x ++) 또는 감소 (x--) 연산자가 없습니다."
   ]
  },
  {
   "cell_type": "markdown",
   "metadata": {},
   "source": [
    "## 3. Booleans: \n",
    "파이썬은 불리언 논리에 대한 모든 일반적인 연산자를 구현하지만 기호 (&&, || 등)보다는 영어 단어를 사용합니다."
   ]
  },
  {
   "cell_type": "code",
   "execution_count": 69,
   "metadata": {},
   "outputs": [
    {
     "name": "stdout",
     "output_type": "stream",
     "text": [
      "<class 'bool'>\n",
      "False\n",
      "True\n",
      "False\n",
      "True\n"
     ]
    }
   ],
   "source": [
    "t = True\n",
    "f = False\n",
    "print(type(t))\n",
    "print(t and f)\n",
    "print(t or f)\n",
    "print(not t)\n",
    "print(t != f)"
   ]
  },
  {
   "cell_type": "markdown",
   "metadata": {},
   "source": [
    "## 4. Strings\n",
    "파이썬은 문자열을 크게 지원합니다."
   ]
  },
  {
   "cell_type": "code",
   "execution_count": 70,
   "metadata": {},
   "outputs": [
    {
     "name": "stdout",
     "output_type": "stream",
     "text": [
      "hello\n",
      "5\n",
      "hello world\n",
      "hello world 12\n"
     ]
    }
   ],
   "source": [
    "hello = 'hello'\n",
    "world = \"world\"\n",
    "print(hello)\n",
    "print(len(hello))\n",
    "hw = hello + ' ' + world\n",
    "print(hw)\n",
    "hw12 = '%s %s %d' % (hello, world, 12)\n",
    "print(hw12)"
   ]
  },
  {
   "cell_type": "markdown",
   "metadata": {},
   "source": [
    "String 객체는 유용한 메소드를 많이 가지고 있다."
   ]
  },
  {
   "cell_type": "code",
   "execution_count": 71,
   "metadata": {},
   "outputs": [
    {
     "name": "stdout",
     "output_type": "stream",
     "text": [
      "Hello\n",
      "HELLO\n",
      "  hello\n",
      " hello \n",
      "he(ell)(ell)o\n",
      "world\n"
     ]
    }
   ],
   "source": [
    "s = \"hello\"\n",
    "print(s.capitalize())\n",
    "print(s.upper())\n",
    "print(s.rjust(7))\n",
    "print(s.center(7))\n",
    "print(s.replace('l','(ell)'))\n",
    "print('  world'.strip())"
   ]
  },
  {
   "cell_type": "markdown",
   "metadata": {},
   "source": [
    "다음의 [링크](https://docs.python.org/3.5/library/stdtypes.html#string-methods)에서 모든 문자열 메서드 목록을 찾을 수 있습니다."
   ]
  },
  {
   "cell_type": "markdown",
   "metadata": {},
   "source": [
    "## 5. Containers \n",
    "\n",
    "파이썬의 기본 내장 컨테이너 유형에는 : list, dictionary, [set, turple] 등이 있습니다.\n",
    "\n",
    "### 5.1 List\n",
    "\n",
    "리스트는 파이썬에서의 배열이지만, 크기를 조정할 수 있고(resizeable), 다른 유형의 요소를 포함 할 수 있습니다."
   ]
  },
  {
   "cell_type": "code",
   "execution_count": 72,
   "metadata": {},
   "outputs": [
    {
     "name": "stdout",
     "output_type": "stream",
     "text": [
      "[3, 1, 2] 2\n",
      "2\n",
      "[3, 1, 'foo']\n",
      "[3, 1, 'foo', 'bar']\n",
      "bar [3, 1, 'foo']\n",
      "[1, 2, 3]\n",
      "[1, 2, 3, 4]\n",
      "[1, 2, 3, 4, 'a']\n",
      "[1, 2]\n",
      "[1, 3, 4, 'a']\n",
      "[1, 3, 4]\n"
     ]
    }
   ],
   "source": [
    "xs = [3, 1, 2]   # Create a list\n",
    "print(xs, xs[2])   # prints \"[3, 1, 2] 2\"\n",
    "print(xs[-1])      # negative indices count fromthe end of the list\n",
    "xs[2] = 'foo'        # Lists can contain elements of different type\n",
    "print(xs)\n",
    "xs.append('bar')\n",
    "print(xs)\n",
    "x = xs.pop()\n",
    "print(x, xs)\n",
    "\n",
    "\n",
    "list_1 = [1, 2, 3]\n",
    "print(list_1)\n",
    "list_1.append(4)\n",
    "print(list_1)\n",
    "list_1.append(\"a\")\n",
    "print(list_1)\n",
    "print(list_1[:2])\n",
    "del list_1[1]\n",
    "print(list_1)\n",
    "list_1.pop()\n",
    "print(list_1)"
   ]
  },
  {
   "cell_type": "markdown",
   "metadata": {},
   "source": [
    "**Slicing** : 목록 요소를 한 번에 하나씩 액세스하는 것 외에도 Python은 하위 목록에 액세스하기위한 간결한 구문을 제공합니다. 이를 slicing 이라 부릅니다."
   ]
  },
  {
   "cell_type": "code",
   "execution_count": 73,
   "metadata": {},
   "outputs": [
    {
     "name": "stdout",
     "output_type": "stream",
     "text": [
      "[0, 1, 2, 3, 4]\n",
      "[2, 3]\n",
      "[2, 3, 4]\n",
      "[0, 1]\n",
      "[0, 1, 2, 3, 4]\n",
      "[0, 1, 2, 3]\n",
      "[0, 1, 8, 9, 4]\n"
     ]
    }
   ],
   "source": [
    "nums = list(range(5))\n",
    "print(nums)\n",
    "print(nums[2:4])\n",
    "print(nums[2:])\n",
    "print(nums[:2])\n",
    "print(nums[:])\n",
    "print(nums[:-1])\n",
    "nums[2:4] = [8, 9]\n",
    "print(nums)"
   ]
  },
  {
   "cell_type": "markdown",
   "metadata": {},
   "source": [
    "**Loops** : 다음과 같이 리스트의 요소들에 대하여 반복 할 수 있습니다."
   ]
  },
  {
   "cell_type": "code",
   "execution_count": 74,
   "metadata": {},
   "outputs": [
    {
     "name": "stdout",
     "output_type": "stream",
     "text": [
      "cat\n",
      "dog\n",
      "monkey\n"
     ]
    }
   ],
   "source": [
    "animals = ['cat', 'dog', 'monkey']\n",
    "for animal in animals:\n",
    "    print(animal)"
   ]
  },
  {
   "cell_type": "markdown",
   "metadata": {},
   "source": [
    "루프의 리스트에 있는 각 요소의 인덱스에 액세스하려면 내장된 enumerate 함수를 사용하십시오."
   ]
  },
  {
   "cell_type": "code",
   "execution_count": 75,
   "metadata": {},
   "outputs": [
    {
     "name": "stdout",
     "output_type": "stream",
     "text": [
      "#1: cat\n",
      "#2: dog\n",
      "#3: monkey\n"
     ]
    }
   ],
   "source": [
    "animals = ['cat', 'dog', 'monkey']\n",
    "for idx, animal in enumerate(animals):\n",
    "    print('#%d: %s' % (idx + 1, animal))"
   ]
  },
  {
   "cell_type": "markdown",
   "metadata": {},
   "source": [
    "**List comprehension** : 프로그래밍 할 때 종종 한 유형의 데이터를 다른 데이터로 변환할 경우가 있습니다. 간단한 예로, 제곱 값을 계산하는 다음 코드를 생각해 보십시오. "
   ]
  },
  {
   "cell_type": "code",
   "execution_count": 76,
   "metadata": {},
   "outputs": [
    {
     "name": "stdout",
     "output_type": "stream",
     "text": [
      "[0, 1, 4, 9, 16]\n"
     ]
    }
   ],
   "source": [
    "nums = [0, 1, 2, 3, 4]\n",
    "squares = []\n",
    "for x in nums:\n",
    "    squares.append(x ** 2)\n",
    "print(squares)"
   ]
  },
  {
   "cell_type": "markdown",
   "metadata": {},
   "source": [
    "List comprehension 을 사용하여, 이 코드를 더 간단하게 만들 수 있습니다."
   ]
  },
  {
   "cell_type": "code",
   "execution_count": 77,
   "metadata": {},
   "outputs": [
    {
     "name": "stdout",
     "output_type": "stream",
     "text": [
      "[0, 1, 4, 9, 16]\n"
     ]
    }
   ],
   "source": [
    "nums = [0, 1, 2, 3, 4]\n",
    "squares = [x ** 2 for x in nums]\n",
    "print(squares)"
   ]
  },
  {
   "cell_type": "markdown",
   "metadata": {},
   "source": [
    "List comprehension 은 또한 조건을 포함 할 수 있습니다"
   ]
  },
  {
   "cell_type": "code",
   "execution_count": 78,
   "metadata": {},
   "outputs": [
    {
     "name": "stdout",
     "output_type": "stream",
     "text": [
      "[0, 4, 16]\n"
     ]
    }
   ],
   "source": [
    "nums = [0, 1, 2, 3, 4]\n",
    "even_squares = [x ** 2 for x in nums if x % 2 == 0]\n",
    "print(even_squares)"
   ]
  },
  {
   "cell_type": "markdown",
   "metadata": {},
   "source": [
    "### 5.2 Dictionary\n",
    "Dictionary는 Java의 Map 또는 Javascript의 오브젝트와 유사한 (키, 값) 쌍을 저장합니다. 다음과 같이 사용할 수 있습니다."
   ]
  },
  {
   "cell_type": "code",
   "execution_count": 79,
   "metadata": {},
   "outputs": [
    {
     "name": "stdout",
     "output_type": "stream",
     "text": [
      "cute\n",
      "True\n",
      "wet\n",
      "N/A\n",
      "wet\n",
      "N/A\n"
     ]
    }
   ],
   "source": [
    "d = {'cat': 'cute', 'dog': 'furry'}\n",
    "print(d['cat'])\n",
    "print('cat' in d)\n",
    "d['fish'] = 'wet'\n",
    "print(d['fish'])\n",
    "# print(d['monkey'])  # KeyError: 'monkey' not a key of d\n",
    "print(d.get('monkey', 'N/A'))\n",
    "print(d.get('fish', 'N/A'))\n",
    "del d['fish']\n",
    "print(d.get('fish', 'N/A'))"
   ]
  },
  {
   "cell_type": "markdown",
   "metadata": {},
   "source": [
    "**Loops** : dictionary의 키를 반복하는 것은 쉽습니다."
   ]
  },
  {
   "cell_type": "code",
   "execution_count": 80,
   "metadata": {},
   "outputs": [
    {
     "name": "stdout",
     "output_type": "stream",
     "text": [
      "A person has 2 legs\n",
      "A cat has 4 legs\n",
      "A spider has 8 legs\n"
     ]
    }
   ],
   "source": [
    "d = {'person': 2, 'cat': 4, 'spider': 8}\n",
    "for animal in d:\n",
    "    legs = d[animal]\n",
    "    print('A %s has %d legs' % (animal, legs))"
   ]
  },
  {
   "cell_type": "markdown",
   "metadata": {},
   "source": [
    "키와 해당 값에 액세스하려면 items 메서드를 사용합니다."
   ]
  },
  {
   "cell_type": "code",
   "execution_count": 81,
   "metadata": {},
   "outputs": [
    {
     "name": "stdout",
     "output_type": "stream",
     "text": [
      "A person has 2 legs\n",
      "A cat has 4 legs\n",
      "A spider has 8 legs\n"
     ]
    }
   ],
   "source": [
    "d = {'person': 2, 'cat': 4, 'spider': 8}\n",
    "for animal, legs in d.items():\n",
    "    print('A %s has %d legs' % (animal, legs))"
   ]
  },
  {
   "cell_type": "markdown",
   "metadata": {},
   "source": [
    "**Dictionary comprehension**: 이것은 list comprehension과 유사하지만, 쉽게 사전을 구성 할 수 있게 해줍니다. 예 :"
   ]
  },
  {
   "cell_type": "code",
   "execution_count": 82,
   "metadata": {},
   "outputs": [
    {
     "name": "stdout",
     "output_type": "stream",
     "text": [
      "{0: 0, 2: 4, 4: 16}\n"
     ]
    }
   ],
   "source": [
    "nums = [0, 1, 2, 3, 4]\n",
    "even_num_to_square = {x: x ** 2 for x in nums if x % 2 ==0}\n",
    "print(even_num_to_square)"
   ]
  },
  {
   "cell_type": "markdown",
   "metadata": {},
   "source": [
    "### 5.3 Sets\n",
    "Set는 **고유한 요소들(distinct elements)**의 정렬되지 않은 콜렉션입니다. 간단한 예로서 다음을 고려하십시오."
   ]
  },
  {
   "cell_type": "code",
   "execution_count": 83,
   "metadata": {},
   "outputs": [
    {
     "name": "stdout",
     "output_type": "stream",
     "text": [
      "True\n",
      "False\n",
      "True\n",
      "3\n",
      "3\n",
      "2\n"
     ]
    }
   ],
   "source": [
    "animals = {'cat', 'dog'}\n",
    "print('cat' in animals)\n",
    "print('fish' in animals)\n",
    "animals.add('fish')\n",
    "print('fish' in animals)\n",
    "print(len(animals))\n",
    "animals.add('cat')\n",
    "print(len(animals))\n",
    "animals.remove('cat')\n",
    "print(len(animals))"
   ]
  },
  {
   "cell_type": "markdown",
   "metadata": {},
   "source": [
    "**Loops** : set에 대하여 반복하는 것은 list에 대하여 반복하는 것과 동일한 구문을 사용합니다. 그러나 set는 순서가 지정되지 않으므로 집합의 요소를 방문하는 순서에 대해 가정을 할 수 없습니다."
   ]
  },
  {
   "cell_type": "code",
   "execution_count": 84,
   "metadata": {},
   "outputs": [
    {
     "name": "stdout",
     "output_type": "stream",
     "text": [
      "#1: fish\n",
      "#2: dog\n",
      "#3: cat\n"
     ]
    }
   ],
   "source": [
    "animals = {'cat', 'dog', 'fish'}\n",
    "for idx, animal in enumerate(animals):\n",
    "    print('#%d: %s' % (idx + 1, animal))"
   ]
  },
  {
   "cell_type": "markdown",
   "metadata": {},
   "source": [
    "set comprehension : list 및 dictionary 과 마찬가지로, set comprehensions를 사용하여 쉽게 세트를 구성 할 수 있습니다."
   ]
  },
  {
   "cell_type": "code",
   "execution_count": 85,
   "metadata": {},
   "outputs": [
    {
     "name": "stdout",
     "output_type": "stream",
     "text": [
      "{0, 1, 2, 3, 4, 5}\n"
     ]
    }
   ],
   "source": [
    "from math import sqrt\n",
    "nums = {int(sqrt(x)) for x in range(30)}\n",
    "print(nums)"
   ]
  },
  {
   "cell_type": "markdown",
   "metadata": {},
   "source": [
    "### 5.4 Tuples\n",
    "튜플은 값의 **불변(변경이 불가함)** 순차 목록입니다. 튜플은 여러면에서 리스트와 유사합니다. 가장 중요한 차이점 중 하나는 튜플을 dictiouary의 키로 사용할 수 있고, list의 요소로 사용할 수 있다는 것입니다. 다음은 간단한 예입니다."
   ]
  },
  {
   "cell_type": "code",
   "execution_count": 90,
   "metadata": {},
   "outputs": [
    {
     "name": "stdout",
     "output_type": "stream",
     "text": [
      "<class 'tuple'>\n",
      "5\n",
      "1\n"
     ]
    }
   ],
   "source": [
    "d = {(x, x+1): x for x in range(10)}\n",
    "t = (5, 6)\n",
    "print(type(t))\n",
    "print(d[t])\n",
    "print(d[(1,2)])"
   ]
  },
  {
   "cell_type": "markdown",
   "metadata": {},
   "source": [
    "## 6. Functions\n",
    "파이썬 함수는 **def** 키워드를 사용하여 정의됩니다. 예 :"
   ]
  },
  {
   "cell_type": "code",
   "execution_count": 87,
   "metadata": {},
   "outputs": [
    {
     "name": "stdout",
     "output_type": "stream",
     "text": [
      "negative\n",
      "zero\n",
      "positive\n"
     ]
    }
   ],
   "source": [
    "def sign(x):\n",
    "    if x > 0:\n",
    "        return 'positive'\n",
    "    elif x < 0:\n",
    "        return 'negative'\n",
    "    else:\n",
    "        return 'zero'\n",
    "\n",
    "for x in [-1, 0, 1]:\n",
    "    print(sign(x))"
   ]
  },
  {
   "cell_type": "markdown",
   "metadata": {},
   "source": [
    "다음과 같이 선택적 키워드 인수를 취하는 함수를 정의합니다."
   ]
  },
  {
   "cell_type": "code",
   "execution_count": 88,
   "metadata": {},
   "outputs": [
    {
     "name": "stdout",
     "output_type": "stream",
     "text": [
      "Hello, Bob\n",
      "HELLO, FRED!\n"
     ]
    }
   ],
   "source": [
    "def hello(name, loud=False):\n",
    "    if loud:\n",
    "        print('HELLO, %s!' % (name.upper()))\n",
    "    else:\n",
    "        print('Hello, %s' % name)\n",
    "\n",
    "hello('Bob')\n",
    "hello('Fred', loud=True)"
   ]
  },
  {
   "cell_type": "markdown",
   "metadata": {},
   "source": [
    "## 7. Classes\n",
    "파이썬에서 클래스를 정의하는 구문은 간단합니다."
   ]
  },
  {
   "cell_type": "code",
   "execution_count": 89,
   "metadata": {},
   "outputs": [
    {
     "name": "stdout",
     "output_type": "stream",
     "text": [
      "Hello, Fred\n",
      "HELLO, FRED!\n"
     ]
    }
   ],
   "source": [
    "class Greeter(object):\n",
    "    \n",
    "    # Constructor\n",
    "    def __init__(self, name):\n",
    "        self.name = name\n",
    "        \n",
    "    # Instance method    \n",
    "    def greet(self, loud=False):\n",
    "        if loud:\n",
    "            print('HELLO, %s!' % self.name.upper())\n",
    "        else:\n",
    "            print('Hello, %s' % self.name)\n",
    "            \n",
    "g = Greeter('Fred')\n",
    "g.greet()\n",
    "g.greet(loud=True)"
   ]
  }
 ],
 "metadata": {
  "kernelspec": {
   "display_name": "Python 3",
   "language": "python",
   "name": "python3"
  },
  "language_info": {
   "codemirror_mode": {
    "name": "ipython",
    "version": 3
   },
   "file_extension": ".py",
   "mimetype": "text/x-python",
   "name": "python",
   "nbconvert_exporter": "python",
   "pygments_lexer": "ipython3",
   "version": "3.6.5"
  }
 },
 "nbformat": 4,
 "nbformat_minor": 2
}

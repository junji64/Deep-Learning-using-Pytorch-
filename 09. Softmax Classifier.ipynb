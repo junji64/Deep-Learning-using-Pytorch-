{
 "cells": [
  {
   "cell_type": "markdown",
   "metadata": {},
   "source": [
    "# Softmax Classifier"
   ]
  },
  {
   "cell_type": "markdown",
   "metadata": {},
   "source": [
    "### 10 labels => 10 outputs"
   ]
  },
  {
   "cell_type": "code",
   "execution_count": null,
   "metadata": {},
   "outputs": [],
   "source": []
  },
  {
   "cell_type": "markdown",
   "metadata": {},
   "source": [
    "### [Softmax function](https://www.ritchieng.com/machine-learning/deep-learning/neural-nets/)"
   ]
  },
  {
   "cell_type": "markdown",
   "metadata": {},
   "source": [
    "We can turn scores (logits) into probabilities using a softmax function.\n",
    "- The probabilities will all sum to 1.\n",
    "- Probability will be low if it's a high score.\n",
    "- Probability will be high if it's a low score.\n",
    "\n",
    "$$ \\sigma(z)_j = { e^{z_j} \\over \\sum^K_{k=1} e^{z_k}} $$ for $j = 1, \\cdots, K$\n",
    "\n",
    "<img src=\"https://camo.githubusercontent.com/a443fe7e4e78e6f7cda8c14d2c33cc69c51d732e/687474703a2f2f692e696d6775722e636f6d2f4b4f78375338472e706e67\" width=500>"
   ]
  },
  {
   "cell_type": "markdown",
   "metadata": {},
   "source": [
    " ### Cost function : Cross entropy\n",
    " \n",
    " $$ D(\\hat{Y},Y) = -Y \\log \\hat{Y} $$\n",
    "    "
   ]
  },
  {
   "cell_type": "markdown",
   "metadata": {},
   "source": [
    "### Loss Function\n",
    "$$ L = {1\\over N}\\sum_i D(S(w*x_i+b),y_i)  $$"
   ]
  },
  {
   "cell_type": "code",
   "execution_count": 6,
   "metadata": {},
   "outputs": [
    {
     "name": "stdout",
     "output_type": "stream",
     "text": [
      "loss1 =  0.35667494393873245\n",
      "loss2 =  2.3025850929940455\n"
     ]
    }
   ],
   "source": [
    "import numpy as np\n",
    "\n",
    "Y = np.array([1, 0, 0])\n",
    "\n",
    "Y_pred1 = np.array([0.7, 0.2, 0.1])\n",
    "Y_pred2 = np.array([0.1, 0.3, 0.6])\n",
    "\n",
    "print('loss1 = ', np.sum(-Y * np.log(Y_pred1)))\n",
    "print('loss2 = ', np.sum(-Y * np.log(Y_pred2)))"
   ]
  },
  {
   "cell_type": "code",
   "execution_count": 10,
   "metadata": {},
   "outputs": [
    {
     "name": "stdout",
     "output_type": "stream",
     "text": [
      "Pytorch Loss1 =  tensor(0.4170) \n",
      "Pytorch Loss2 =  tensor(1.8406)\n"
     ]
    }
   ],
   "source": [
    "import torch\n",
    "from torch.autograd import Variable\n",
    "\n",
    "loss = torch.nn.CrossEntropyLoss()\n",
    "\n",
    "Y = Variable(torch.LongTensor([0]), requires_grad=False)\n",
    "\n",
    "Y_pred1 = Variable(torch.Tensor([[2.0, 1.0, 0.1]]))\n",
    "Y_pred2 = Variable(torch.Tensor([[0.5, 2.0, 0.3]]))\n",
    "\n",
    "l1 = loss(Y_pred1, Y)\n",
    "l2 = loss(Y_pred2, Y)\n",
    "\n",
    "print('Pytorch Loss1 = ', l1.data, \n",
    "      '\\nPytorch Loss2 = ', l2.data)\n"
   ]
  },
  {
   "cell_type": "code",
   "execution_count": 14,
   "metadata": {},
   "outputs": [
    {
     "name": "stdout",
     "output_type": "stream",
     "text": [
      "Batch Loss1 = tensor(0.4966) \n",
      "Batch Loss2 = tensor(1.2389)\n"
     ]
    }
   ],
   "source": [
    "# target is of size nBatch\n",
    "# each element in target has to have 0 <= value < nClasses (0-2)\n",
    "# Input is class, not one-hot\n",
    "Y = Variable(torch.LongTensor([2, 0, 1]), requires_grad=False)\n",
    "\n",
    "# input is of size nBatch x nClasses = 2 x 4\n",
    "# Y_pred are logits (not softmax)\n",
    "Y_pred1 = Variable(torch.Tensor([[0.1, 0.2, 0.9],\n",
    "                                 [1.1, 0.1, 0.2],\n",
    "                                 [0.2, 2.1, 0.1]]))\n",
    "\n",
    "\n",
    "Y_pred2 = Variable(torch.Tensor([[0.8, 0.2, 0.3],\n",
    "                                 [0.2, 0.3, 0.5],\n",
    "                                 [0.2, 0.2, 0.5]]))\n",
    "\n",
    "l1 = loss(Y_pred1, Y)\n",
    "l2 = loss(Y_pred2, Y)\n",
    "\n",
    "print(\"Batch Loss1 =\", l1.data, \"\\nBatch Loss2 =\", l2.data)"
   ]
  },
  {
   "cell_type": "markdown",
   "metadata": {},
   "source": [
    "## Exercise 9-1 : CrossEntropyLoss vs NLLLoss\n",
    "\n",
    "- What are the differnces?\n",
    "- Check out\n",
    " - https://pytorch.org/docs/master/nn.html#nllloss\n",
    " - https://pytorch.org/docs/master/nn.html#crossentropyloss\n",
    "- Minimizing the Negative Log-Likelihood in English\n",
    "  (http://willwolf.io/2017/05/18/minimizing_the_negative_log_likelihood_in_english/)"
   ]
  },
  {
   "cell_type": "markdown",
   "metadata": {},
   "source": [
    "## NMIST Network\n",
    "\n",
    "http://ml4a.github.io/ml4a/ko/looking_inside_neural_nets/\n"
   ]
  },
  {
   "cell_type": "code",
   "execution_count": null,
   "metadata": {},
   "outputs": [],
   "source": []
  },
  {
   "cell_type": "code",
   "execution_count": 22,
   "metadata": {},
   "outputs": [
    {
     "name": "stderr",
     "output_type": "stream",
     "text": [
      "/Users/Jun/anaconda3/lib/python3.6/site-packages/ipykernel_launcher.py:70: UserWarning: invalid index of a 0-dim tensor. This will be an error in PyTorch 0.5. Use tensor.item() to convert a 0-dim tensor to a Python number\n"
     ]
    },
    {
     "name": "stdout",
     "output_type": "stream",
     "text": [
      "Train Epoch: 1 [0/60000 (0%)]\tLoss: 2.301587\n",
      "Train Epoch: 1 [12800/60000 (21%)]\tLoss: 2.289120\n",
      "Train Epoch: 1 [25600/60000 (43%)]\tLoss: 2.291083\n",
      "Train Epoch: 1 [38400/60000 (64%)]\tLoss: 2.245781\n",
      "Train Epoch: 1 [51200/60000 (85%)]\tLoss: 1.952906\n"
     ]
    },
    {
     "name": "stderr",
     "output_type": "stream",
     "text": [
      "/Users/Jun/anaconda3/lib/python3.6/site-packages/ipykernel_launcher.py:78: UserWarning: volatile was removed and now has no effect. Use `with torch.no_grad():` instead.\n",
      "/Users/Jun/anaconda3/lib/python3.6/site-packages/ipykernel_launcher.py:81: UserWarning: invalid index of a 0-dim tensor. This will be an error in PyTorch 0.5. Use tensor.item() to convert a 0-dim tensor to a Python number\n"
     ]
    },
    {
     "name": "stdout",
     "output_type": "stream",
     "text": [
      "\n",
      "Test set: Average loss: 0.0177, Accuracy: 6962/10000 (69%)\n",
      "\n",
      "Train Epoch: 2 [0/60000 (0%)]\tLoss: 1.103479\n",
      "Train Epoch: 2 [12800/60000 (21%)]\tLoss: 0.872082\n",
      "Train Epoch: 2 [25600/60000 (43%)]\tLoss: 0.803695\n",
      "Train Epoch: 2 [38400/60000 (64%)]\tLoss: 0.476803\n",
      "Train Epoch: 2 [51200/60000 (85%)]\tLoss: 0.496327\n",
      "\n",
      "Test set: Average loss: 0.0063, Accuracy: 8835/10000 (88%)\n",
      "\n",
      "Train Epoch: 3 [0/60000 (0%)]\tLoss: 0.405531\n",
      "Train Epoch: 3 [12800/60000 (21%)]\tLoss: 0.320144\n",
      "Train Epoch: 3 [25600/60000 (43%)]\tLoss: 0.475870\n",
      "Train Epoch: 3 [38400/60000 (64%)]\tLoss: 0.321615\n",
      "Train Epoch: 3 [51200/60000 (85%)]\tLoss: 0.266144\n",
      "\n",
      "Test set: Average loss: 0.0047, Accuracy: 9157/10000 (91%)\n",
      "\n",
      "Train Epoch: 4 [0/60000 (0%)]\tLoss: 0.190647\n",
      "Train Epoch: 4 [12800/60000 (21%)]\tLoss: 0.229722\n",
      "Train Epoch: 4 [25600/60000 (43%)]\tLoss: 0.152370\n",
      "Train Epoch: 4 [38400/60000 (64%)]\tLoss: 0.316723\n",
      "Train Epoch: 4 [51200/60000 (85%)]\tLoss: 0.175720\n",
      "\n",
      "Test set: Average loss: 0.0034, Accuracy: 9361/10000 (93%)\n",
      "\n",
      "Train Epoch: 5 [0/60000 (0%)]\tLoss: 0.247839\n",
      "Train Epoch: 5 [12800/60000 (21%)]\tLoss: 0.319619\n",
      "Train Epoch: 5 [25600/60000 (43%)]\tLoss: 0.448133\n",
      "Train Epoch: 5 [38400/60000 (64%)]\tLoss: 0.074277\n",
      "Train Epoch: 5 [51200/60000 (85%)]\tLoss: 0.241442\n",
      "\n",
      "Test set: Average loss: 0.0027, Accuracy: 9477/10000 (94%)\n",
      "\n",
      "Train Epoch: 6 [0/60000 (0%)]\tLoss: 0.089363\n",
      "Train Epoch: 6 [12800/60000 (21%)]\tLoss: 0.147320\n",
      "Train Epoch: 6 [25600/60000 (43%)]\tLoss: 0.292216\n",
      "Train Epoch: 6 [38400/60000 (64%)]\tLoss: 0.062647\n",
      "Train Epoch: 6 [51200/60000 (85%)]\tLoss: 0.171233\n",
      "\n",
      "Test set: Average loss: 0.0023, Accuracy: 9561/10000 (95%)\n",
      "\n",
      "Train Epoch: 7 [0/60000 (0%)]\tLoss: 0.104577\n",
      "Train Epoch: 7 [12800/60000 (21%)]\tLoss: 0.212588\n",
      "Train Epoch: 7 [25600/60000 (43%)]\tLoss: 0.109870\n",
      "Train Epoch: 7 [38400/60000 (64%)]\tLoss: 0.071683\n",
      "Train Epoch: 7 [51200/60000 (85%)]\tLoss: 0.179142\n",
      "\n",
      "Test set: Average loss: 0.0021, Accuracy: 9585/10000 (95%)\n",
      "\n",
      "Train Epoch: 8 [0/60000 (0%)]\tLoss: 0.091644\n",
      "Train Epoch: 8 [12800/60000 (21%)]\tLoss: 0.094585\n",
      "Train Epoch: 8 [25600/60000 (43%)]\tLoss: 0.343566\n",
      "Train Epoch: 8 [38400/60000 (64%)]\tLoss: 0.102236\n",
      "Train Epoch: 8 [51200/60000 (85%)]\tLoss: 0.109259\n",
      "\n",
      "Test set: Average loss: 0.0017, Accuracy: 9659/10000 (96%)\n",
      "\n",
      "Train Epoch: 9 [0/60000 (0%)]\tLoss: 0.074534\n",
      "Train Epoch: 9 [12800/60000 (21%)]\tLoss: 0.142240\n",
      "Train Epoch: 9 [25600/60000 (43%)]\tLoss: 0.095086\n",
      "Train Epoch: 9 [38400/60000 (64%)]\tLoss: 0.131637\n",
      "Train Epoch: 9 [51200/60000 (85%)]\tLoss: 0.025525\n",
      "\n",
      "Test set: Average loss: 0.0017, Accuracy: 9676/10000 (96%)\n",
      "\n"
     ]
    }
   ],
   "source": [
    "# https://github.com/pytorch/examples/blob/master/mnist/main.py\n",
    "from __future__ import print_function\n",
    "import torch\n",
    "import torch.nn as nn\n",
    "import torch.nn.functional as F\n",
    "import torch.optim as optim\n",
    "from torchvision import datasets, transforms\n",
    "from torch.autograd import Variable\n",
    "\n",
    "# Training settings\n",
    "batch_size = 64\n",
    "\n",
    "# MNIST Dataset\n",
    "train_dataset = datasets.MNIST(root='./data/',\n",
    "                               train=True,\n",
    "                               transform=transforms.ToTensor(),\n",
    "                               download=True)\n",
    "\n",
    "test_dataset = datasets.MNIST(root='./data/',\n",
    "                              train=False,\n",
    "                              transform=transforms.ToTensor())\n",
    "\n",
    "# Data Loader (Input Pipeline)\n",
    "train_loader = torch.utils.data.DataLoader(dataset=train_dataset,\n",
    "                                           batch_size=batch_size,\n",
    "                                           shuffle=True)\n",
    "\n",
    "test_loader = torch.utils.data.DataLoader(dataset=test_dataset,\n",
    "                                          batch_size=batch_size,\n",
    "                                          shuffle=False)\n",
    "\n",
    "\n",
    "class Net(nn.Module):\n",
    "\n",
    "    def __init__(self):\n",
    "        super(Net, self).__init__()\n",
    "        self.l1 = nn.Linear(784, 520)\n",
    "        self.l2 = nn.Linear(520, 320)\n",
    "        self.l3 = nn.Linear(320, 240)\n",
    "        self.l4 = nn.Linear(240, 120)\n",
    "        self.l5 = nn.Linear(120, 10)\n",
    "\n",
    "    def forward(self, x):\n",
    "        x = x.view(-1, 784)  # Flatten the data (n, 1, 28, 28)-> (n, 784)\n",
    "        x = F.relu(self.l1(x))\n",
    "        x = F.relu(self.l2(x))\n",
    "        x = F.relu(self.l3(x))\n",
    "        x = F.relu(self.l4(x))\n",
    "        return self.l5(x)\n",
    "\n",
    "\n",
    "model = Net()\n",
    "\n",
    "criterion = nn.CrossEntropyLoss()\n",
    "optimizer = optim.SGD(model.parameters(), lr=0.01, momentum=0.5)\n",
    "\n",
    "\n",
    "def train(epoch):\n",
    "    model.train()\n",
    "    for batch_idx, (data, target) in enumerate(train_loader):\n",
    "        data, target = Variable(data), Variable(target)\n",
    "        optimizer.zero_grad()\n",
    "        output = model(data)\n",
    "        loss = criterion(output, target)\n",
    "        loss.backward()\n",
    "        optimizer.step()\n",
    "        if batch_idx % 200 == 0:\n",
    "            print('Train Epoch: {} [{}/{} ({:.0f}%)]\\tLoss: {:.6f}'.format(\n",
    "                epoch, batch_idx * len(data), len(train_loader.dataset),\n",
    "                100. * batch_idx / len(train_loader), loss.data[0]))\n",
    "\n",
    "\n",
    "def test():\n",
    "    model.eval()\n",
    "    test_loss = 0\n",
    "    correct = 0\n",
    "    for data, target in test_loader:\n",
    "        data, target = Variable(data, volatile=True), Variable(target)\n",
    "        output = model(data)\n",
    "        # sum up batch loss\n",
    "        test_loss += criterion(output, target).data[0]\n",
    "        # get the index of the max\n",
    "        pred = output.data.max(1, keepdim=True)[1]\n",
    "        correct += pred.eq(target.data.view_as(pred)).cpu().sum()\n",
    "\n",
    "    test_loss /= len(test_loader.dataset)\n",
    "    print('\\nTest set: Average loss: {:.4f}, Accuracy: {}/{} ({:.0f}%)\\n'.format(\n",
    "        test_loss, correct, len(test_loader.dataset),\n",
    "        100. * correct / len(test_loader.dataset)))\n",
    "\n",
    "\n",
    "for epoch in range(1, 10):\n",
    "    train(epoch)\n",
    "    test()"
   ]
  },
  {
   "cell_type": "code",
   "execution_count": null,
   "metadata": {},
   "outputs": [],
   "source": []
  }
 ],
 "metadata": {
  "kernelspec": {
   "display_name": "Python 3",
   "language": "python",
   "name": "python3"
  },
  "language_info": {
   "codemirror_mode": {
    "name": "ipython",
    "version": 3
   },
   "file_extension": ".py",
   "mimetype": "text/x-python",
   "name": "python",
   "nbconvert_exporter": "python",
   "pygments_lexer": "ipython3",
   "version": "3.6.5"
  }
 },
 "nbformat": 4,
 "nbformat_minor": 2
}

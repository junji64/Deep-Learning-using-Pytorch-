{
 "cells": [
  {
   "cell_type": "markdown",
   "metadata": {},
   "source": [
    "# 6. Logistic Regression\n",
    "\n",
    "Binary Classification is very useful\n",
    "- Spent N hours for study ==> Pass or Fail ?\n",
    "- GPA and GRE scores for entering Graduate School ==> admit or not?\n",
    "- Soccer game againt to othe country ==> win or loss?"
   ]
  },
  {
   "cell_type": "markdown",
   "metadata": {},
   "source": [
    "### Linear Regression to Logistic Regression\n",
    "\n",
    "Linear Model \n",
    "$$ \\hat{y} = w * x + b $$\n",
    "Logistic Model\n",
    "$$ \\hat{y} = \\sigma ( w * x + b ) $$\n",
    "where, $\\sigma( )$ is sigmoid function that gives value between 0 and 1.\n"
   ]
  },
  {
   "cell_type": "markdown",
   "metadata": {},
   "source": [
    "### Sigmoid Function\n",
    "$$ \\sigma (z) = { 1 \\over 1 + e^{-z}} $$"
   ]
  },
  {
   "cell_type": "code",
   "execution_count": 6,
   "metadata": {
    "collapsed": false
   },
   "outputs": [
    {
     "data": {
      "image/png": "[encoded data removed]",
      "text/plain": [
       "<matplotlib.figure.Figure at 0x24677b21940>"
      ]
     },
     "metadata": {},
     "output_type": "display_data"
    }
   ],
   "source": [
    "import numpy as np\n",
    "import matplotlib.pyplot as plt\n",
    "\n",
    "def sigmoid(x):\n",
    "    return 1 / (1 + np.exp(-x))\n",
    "\n",
    "x = np.arange(-6.0, 6.0, 0.1)\n",
    "y = sigmoid(x)\n",
    "plt.plot(x, y, label='Sigmoid', color='k', lw=1, linestyle=None)\n",
    "plt.ylim(-0.1, 1.1)\n",
    "plt.grid()\n",
    "plt.legend()\n",
    "plt.show()"
   ]
  },
  {
   "cell_type": "markdown",
   "metadata": {},
   "source": [
    "### MSE( Mean Square Error ) vs CEE( Cross Entropy Error )\n",
    "\n",
    "**MSE**\n",
    "$$ error = { {1 \\over N} \\sum_{n=1}^N (\\hat{y}_n - y_n)^2 } $$\n",
    "**Cross-Entropy**\n",
    "$$ error = -{1 \\over N} [ y_n \\log \\hat{y}_n  + (1-y_n)\\log(1-\\hat{y}_n  )]$$"
   ]
  },
  {
   "cell_type": "code",
   "execution_count": 7,
   "metadata": {
    "collapsed": false
   },
   "outputs": [
    {
     "data": {
      "image/png": "[encoded data removed]",
      "text/plain": [
       "<matplotlib.figure.Figure at 0x24678adfcf8>"
      ]
     },
     "metadata": {},
     "output_type": "display_data"
    }
   ],
   "source": [
    "import math\n",
    "\n",
    "def logarithm(x):\n",
    "    return np.log(x)\n",
    "\n",
    "x1 = np.arange(.05, 1.2, 0.05)\n",
    "x2 = np.arange(-0.15, 0.995, 0.05)\n",
    "\n",
    "y1 = -logarithm(x1)\n",
    "y2 = -logarithm(1-x2)\n",
    "\n",
    "fig, axes = plt.subplots(nrows=1,ncols=2, figsize=(8, 4))\n",
    "\n",
    "axes[0].plot(x1,y1, label='- log(z) \\n when y=1', color='k', lw=1, linestyle=None)\n",
    "#axes[0].ylim(-2.5, 0.2)\n",
    "axes[0].grid()\n",
    "axes[0].legend()\n",
    "\n",
    "axes[1].plot(x2,y2, label='- log(1-z) \\n when y=0', color='k', lw=1, linestyle=None)\n",
    "#axes[1].ylim(-2.5, 0.2)\n",
    "axes[1].grid()\n",
    "axes[1].legend()\n",
    "\n",
    "plt.show()\n"
   ]
  },
  {
   "cell_type": "markdown",
   "metadata": {},
   "source": [
    "### Logistic regression in PyTorch"
   ]
  },
  {
   "cell_type": "code",
   "execution_count": 4,
   "metadata": {
    "collapsed": false
   },
   "outputs": [
    {
     "name": "stdout",
     "output_type": "stream",
     "text": [
      "0 0.7360543608665466\n",
      "100 0.5678632855415344\n",
      "200 0.5352119207382202\n",
      "300 0.5153194069862366\n",
      "400 0.49713051319122314\n",
      "500 0.4800914227962494\n",
      "600 0.4641024172306061\n",
      "700 0.4490858018398285\n",
      "800 0.43496963381767273\n",
      "900 0.4216874837875366\n",
      "predict 1 hour => False\n",
      "predict 7 hour => True\n"
     ]
    }
   ],
   "source": [
    "import torch\n",
    "from torch.autograd import Variable\n",
    "\n",
    "x_data = Variable(torch.Tensor([[1.0], [1.5], [2.0], [3.0], [3.5], [4.0]]))\n",
    "y_data = Variable(torch.Tensor([[0.], [0.], [0.], [1.], [1.], [1.]]))\n",
    "\n",
    "class Model(torch.nn.Module): \n",
    "    \n",
    "    def __init__(self):\n",
    "        super(Model,self).__init__()\n",
    "        self.linear = torch.nn.Linear(1,1)\n",
    "    \n",
    "    def forward(self, x):\n",
    "        y_pred = torch.sigmoid(self.linear(x))\n",
    "        return y_pred\n",
    "\n",
    "model = Model()\n",
    "\n",
    "# criterion = torch.nn.BCELoss(reduction='elementwise_mean')\n",
    "criterion = torch.nn.BCELoss(size_average=True)\n",
    "optimizer = torch.optim.SGD(model.parameters(), lr=0.01)\n",
    "\n",
    "for epoch in range(1000):\n",
    "    y_pred = model(x_data)\n",
    "    loss = criterion(y_pred, y_data)\n",
    "    if epoch%100 == 0:\n",
    "        #print(epoch, loss.item())\n",
    "        print(epoch, loss.data[0])\n",
    "    optimizer.zero_grad()\n",
    "    loss.backward()\n",
    "    optimizer.step()\n",
    "    \n",
    "hour_var = Variable(torch.Tensor([[1.0]]))\n",
    "print(\"predict 1 hour =>\", model(hour_var).data[0][0] > 0.5)\n",
    "hour_var = Variable(torch.Tensor([[7.0]]))\n",
    "print(\"predict 7 hour =>\", model(hour_var).data[0][0] > 0.5)        "
   ]
  },
  {
   "cell_type": "code",
   "execution_count": null,
   "metadata": {
    "collapsed": true
   },
   "outputs": [],
   "source": []
  },
  {
   "cell_type": "markdown",
   "metadata": {},
   "source": [
    "\n"
   ]
  },
  {
   "cell_type": "code",
   "execution_count": null,
   "metadata": {
    "collapsed": true
   },
   "outputs": [],
   "source": []
  },
  {
   "cell_type": "code",
   "execution_count": null,
   "metadata": {
    "collapsed": true
   },
   "outputs": [],
   "source": []
  }
 ],
 "metadata": {
  "kernelspec": {
   "display_name": "Python 3",
   "language": "python",
   "name": "python3"
  },
  "language_info": {
   "codemirror_mode": {
    "name": "ipython",
    "version": 3
   },
   "file_extension": ".py",
   "mimetype": "text/x-python",
   "name": "python",
   "nbconvert_exporter": "python",
   "pygments_lexer": "ipython3",
   "version": "3.6.4"
  }
 },
 "nbformat": 4,
 "nbformat_minor": 2
}

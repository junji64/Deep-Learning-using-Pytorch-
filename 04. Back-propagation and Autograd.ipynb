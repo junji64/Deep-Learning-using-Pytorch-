{
 "cells": [
  {
   "cell_type": "markdown",
   "metadata": {},
   "source": [
    "# 4. Back-propagation and Autograd\n",
    "\n",
    "### Computing gradient in simple network\n",
    "\n",
    "x ==> (Linear) ==> y\n",
    "\n",
    "gradient of loss with respect to w \n",
    "\n",
    "$$ {\\partial loss \\over \\partial w} = ? $$\n",
    "\n",
    "manually compute gradient as follows ..."
   ]
  },
  {
   "cell_type": "markdown",
   "metadata": {},
   "source": [
    "### Complicated network?\n",
    "\n",
    "### Better way => Computation graph + Chain Rule\n",
    "\n",
    "### Chain Rule\n",
    "\n",
    "$$ g = g(x) \\implies  f = f(g) $$\n",
    "\n",
    "$$ {\\partial f \\over \\partial x} = {\\partial f \\over \\partial g}{\\partial g \\over \\partial x} $$\n",
    "\n",
    "### Computation Graph\n",
    "\n",
    "$$ J(a,b,c) = 2 * (a + b * c) $$\n",
    "\n",
    "$$ u = b*c  \\implies   v = a+u  \\implies  J=3*v $$\n",
    "Let $a=5$, $b=3$, $c=2$, then\n",
    "$$ u = 6 \\implies v = 11 \\implies J = 33 $$\n"
   ]
  },
  {
   "cell_type": "markdown",
   "metadata": {},
   "source": [
    "$$ {\\partial J \\over \\partial v} = 3 $$\n",
    "\n",
    "$$ {\\partial v \\over \\partial a} = 1 $$\n",
    "\n",
    "$$ {\\partial J \\over \\partial a} = {\\partial J \\over \\partial v} {\\partial v \\over \\partial a} = 3 * 1 = 3$$\n",
    "\n",
    "When $u = 6 \\implies 6.001$ <br>\n",
    "then $ v = a+ u = 11 \\implies 11.001$ <br>\n",
    "then $ J=3*v=33 \\implies 33.0003$\n",
    "\n",
    "\n",
    "$$ {\\partial J \\over \\partial v} = 3 $$\n",
    "\n",
    "$$ {\\partial v \\over \\partial u} = 1 $$\n",
    "\n",
    "$$ {\\partial u \\over \\partial b} = 2 $$\n",
    "\n",
    "$$ {\\partial J \\over \\partial b} = {\\partial J \\over \\partial v} {\\partial v \\over \\partial u}{\\partial u \\over \\partial b} = 3 * 1 * 2 = 6$$\n",
    "\n",
    "When $b = 3 \\implies 3.001$ <br>\n",
    "then $u = b*c = 6 \\implies 6.002$ <br>\n",
    "then $ v = a+u = 11 \\implies 11.002$ <br>\n",
    "then $ J=3*v=33 \\implies 33.0006$\n"
   ]
  },
  {
   "cell_type": "markdown",
   "metadata": {},
   "source": [
    "### Computation Graph for linear loss function\n",
    "\n",
    "\n",
    "$$ \\text{loss} = (\\hat{y} - y) ^2 = (w*x -y)^2  $$"
   ]
  },
  {
   "cell_type": "markdown",
   "metadata": {},
   "source": [
    "$$ {\\partial \\text{loss} \\over \\partial w} = 2x(w*x - y)  $$"
   ]
  },
  {
   "cell_type": "markdown",
   "metadata": {},
   "source": [
    "$$ \\hat{y} = w * x \\implies s = \\hat{y} -y \\implies  loss = s^2 $$\n",
    "When $ loss = 1 $ <br> \n",
    "$$ {\\partial loss \\over \\partial s } = 2s = 2 $$"
   ]
  },
  {
   "cell_type": "markdown",
   "metadata": {},
   "source": [
    "$$ {\\partial loss \\over \\partial \\hat{y}} = {\\partial loss \\over \\partial s }{\\partial s \\over \\partial \\hat{y} } = 2 *-1 = -2 $$\n",
    "\n",
    "$$ {\\partial loss \\over \\partial w} = {\\partial loss \\over \\partial \\hat{y} }{\\partial \\hat{y} \\over \\partial w} = -2 *x = -2 $$"
   ]
  },
  {
   "cell_type": "markdown",
   "metadata": {},
   "source": [
    "### Exercise 4.2\n",
    "\n",
    "For $$ \\hat{y} = w * x + b $$ \n",
    "and\n",
    "$$ loss = ( \\hat{y} - y ) ^2 $$\n",
    "Let $ x = 1, y=2, w = 1, b=2 $"
   ]
  },
  {
   "cell_type": "markdown",
   "metadata": {},
   "source": [
    "## Data and Variable"
   ]
  },
  {
   "cell_type": "code",
   "execution_count": 3,
   "metadata": {},
   "outputs": [
    {
     "name": "stdout",
     "output_type": "stream",
     "text": [
      "grad:  1.0 2.0 tensor(-2.)\n",
      "grad:  2.0 4.0 tensor(-7.8400)\n",
      "grad:  3.0 6.0 tensor(-16.2288)\n",
      "process:  0 tensor(7.3159)\n",
      "grad:  1.0 2.0 tensor(-0.4417)\n",
      "grad:  2.0 4.0 tensor(-1.7316)\n",
      "grad:  3.0 6.0 tensor(-3.5845)\n",
      "process:  5 tensor(0.3569)\n",
      "grad:  1.0 2.0 tensor(-0.0976)\n",
      "grad:  2.0 4.0 tensor(-0.3825)\n",
      "grad:  3.0 6.0 tensor(-0.7917)\n",
      "process:  10 tensor(0.0174)\n",
      "grad:  1.0 2.0 tensor(-0.0215)\n",
      "grad:  2.0 4.0 tensor(-0.0845)\n",
      "grad:  3.0 6.0 tensor(-0.1749)\n",
      "process:  15 tensor(0.0008)\n",
      "grad:  1.0 2.0 tensor(-0.0048)\n",
      "grad:  2.0 4.0 tensor(-0.0187)\n",
      "grad:  3.0 6.0 tensor(-0.0386)\n",
      "process:  20 tensor(0.0000)\n",
      "grad:  1.0 2.0 tensor(-0.0011)\n",
      "grad:  2.0 4.0 tensor(-0.0041)\n",
      "grad:  3.0 6.0 tensor(-0.0085)\n",
      "process:  25 tensor(2.0219e-06)\n",
      "grad:  1.0 2.0 tensor(-0.0002)\n",
      "grad:  2.0 4.0 tensor(-0.0009)\n",
      "grad:  3.0 6.0 tensor(-0.0019)\n",
      "process:  30 tensor(9.8744e-08)\n",
      "grad:  1.0 2.0 tensor(-0.0001)\n",
      "grad:  2.0 4.0 tensor(-0.0002)\n",
      "grad:  3.0 6.0 tensor(-0.0004)\n",
      "process:  35 tensor(4.8467e-09)\n",
      "predict (after training)  4 tensor(8.0000)\n"
     ]
    }
   ],
   "source": [
    "import torch\n",
    "from torch.autograd import Variable\n",
    "\n",
    "x_data = [1.0, 2.0, 3.0]\n",
    "y_data = [2.0, 4.0, 6.0]\n",
    "\n",
    "w = Variable(torch.Tensor([1.0]), requires_grad=True)\n",
    "\n",
    "def forward(x):\n",
    "    return x * w \n",
    "\n",
    "def loss(x, y):\n",
    "    y_pred = forward(x)\n",
    "    return (y_pred-y)*(y_pred-y)\n",
    "\n",
    "for epoch in range(40):\n",
    "    for x, y in zip(x_data, y_data):\n",
    "        l = loss(x, y) \n",
    "        l.backward()\n",
    "        if (epoch%5 == 0):\n",
    "            print(\"grad: \", x, y, w.grad.data[0])\n",
    "        w.data = w.data - 0.01 * w.grad.data\n",
    "        w.grad.data.zero_()\n",
    "    if (epoch%5 == 0):\n",
    "        print(\"process: \", epoch, l.data[0])\n",
    "\n",
    "print(\"predict (after training) \", 4, forward(4).data[0])"
   ]
  },
  {
   "cell_type": "markdown",
   "metadata": {},
   "source": [
    "### Exercise 4.3 : implement computational graph and backprop using Numpy\n",
    "\n"
   ]
  },
  {
   "cell_type": "markdown",
   "metadata": {},
   "source": [
    "### Exercise 4.4 : Compute gradients using computational graph (manually)\n",
    "\n",
    "$$ \\hat{y} = x^2 w_2 + x w_1 + b$$\n",
    "$$ loss = (\\hat{y} - y)^2 $$\n",
    "$$ { \\partial \\text{loss} \\over \\partial w_1 } = ? $$\n",
    "$$ { \\partial \\text{loss} \\over \\partial w_2 } = ? $$"
   ]
  },
  {
   "cell_type": "code",
   "execution_count": null,
   "metadata": {},
   "outputs": [],
   "source": []
  }
 ],
 "metadata": {
  "kernelspec": {
   "display_name": "Python 3",
   "language": "python",
   "name": "python3"
  },
  "language_info": {
   "codemirror_mode": {
    "name": "ipython",
    "version": 3
   },
   "file_extension": ".py",
   "mimetype": "text/x-python",
   "name": "python",
   "nbconvert_exporter": "python",
   "pygments_lexer": "ipython3",
   "version": "3.6.5"
  }
 },
 "nbformat": 4,
 "nbformat_minor": 2
}

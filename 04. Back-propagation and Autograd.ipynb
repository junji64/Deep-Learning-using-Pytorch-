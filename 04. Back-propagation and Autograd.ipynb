{
 "cells": [
  {
   "cell_type": "markdown",
   "metadata": {},
   "source": [
    "# 4. Back-propagation and Autograd\n",
    "\n",
    "### Computing gradient in simple network\n",
    "\n",
    "### Complicated network?\n",
    "\n",
    "### Better way => Computation graph + Chain Rule\n",
    "\n",
    "### Chain Rule\n",
    "\n",
    "$$ g = g(x) \\implies  f = f(g) $$\n",
    "\n",
    "$$ {\\partial f \\over \\partial x} = {\\partial f \\over \\partial g}{\\partial g \\over \\partial x} $$\n",
    "\n",
    "### Computation Graph\n",
    "\n",
    "$$ J(a,b,c) = 2 * (a + b * c) $$\n",
    "\n",
    "$$ u = b*c  \\implies   v = a+u  \\implies  J=3*v $$\n",
    "Let $a=5$, $b=3$, $c=2$, then\n",
    "$$ u = 6 \\implies v = 11 \\implies J = 33 $$\n"
   ]
  },
  {
   "cell_type": "markdown",
   "metadata": {},
   "source": [
    "$$ {\\partial J \\over \\partial v} = 3 $$\n",
    "\n",
    "$$ {\\partial v \\over \\partial a} = 1 $$\n",
    "\n",
    "$$ {\\partial J \\over \\partial a} = {\\partial J \\over \\partial v} {\\partial v \\over \\partial a} = 3 * 1 = 3$$\n",
    "\n",
    "When $u = 6 \\implies 6.001$ <br>\n",
    "then $ v = a+ u = 11 \\implies 11.001$ <br>\n",
    "then $ J=3*v=33 \\implies 33.0003$\n",
    "\n",
    "\n",
    "$$ {\\partial J \\over \\partial v} = 3 $$\n",
    "\n",
    "$$ {\\partial v \\over \\partial u} = 1 $$\n",
    "\n",
    "$$ {\\partial u \\over \\partial b} = 2 $$\n",
    "\n",
    "$$ {\\partial J \\over \\partial b} = {\\partial J \\over \\partial v} {\\partial v \\over \\partial u}{\\partial u \\over \\partial b} = 3 * 1 * 2 = 6$$\n",
    "\n",
    "When $b = 3 \\implies 3.001$ <br>\n",
    "then $u = b*c = 6 \\implies 6.002$ <br>\n",
    "then $ v = a+u = 11 \\implies 11.002$ <br>\n",
    "then $ J=3*v=33 \\implies 33.0006$\n"
   ]
  },
  {
   "cell_type": "markdown",
   "metadata": {},
   "source": [
    "### Computation Graph for linear loss function\n",
    "\n",
    "\n",
    "$$ \\text{loss} = (\\hat{y} - y) ^2 = (w*x -y)^2  $$\n",
    "\n",
    "$$ {\\partial \\text{loss} \\over \\partial w} = 2x(w*x - y)  $$"
   ]
  },
  {
   "cell_type": "markdown",
   "metadata": {},
   "source": [
    "$$ \\hat{y} = w * x \\implies s = \\hat{y} -y \\implies  loss = s^2 $$\n",
    "When $ loss = 1 $ <br> \n",
    "$$ {\\partial loss \\over \\partial s } = 2s = 2 $$\n",
    "\n",
    "$$ {\\partial loss \\over \\partial \\hat{y}} = {\\partial loss \\over \\partial s }{\\partial s \\over \\partial \\hat{y} } = 2 *-1 = -2 $$\n",
    "\n",
    "$$ {\\partial loss \\over \\partial w} = {\\partial loss \\over \\partial \\hat{y} }{\\partial \\hat{y} \\over \\partial w} = -2 *x = -2 $$"
   ]
  },
  {
   "cell_type": "markdown",
   "metadata": {},
   "source": [
    "### Exercise 4.2\n",
    "\n",
    "For $$ \\hat{y} = w * x + b $$ \n",
    "and\n",
    "$$ loss = ( \\hat{y} - y ) ^2 $$\n",
    "Let $ x = 1, y=2, w = 1, b=2 $"
   ]
  },
  {
   "cell_type": "markdown",
   "metadata": {},
   "source": [
    "## Data and Variable"
   ]
  },
  {
   "cell_type": "code",
   "execution_count": 7,
   "metadata": {},
   "outputs": [
    {
     "name": "stdout",
     "output_type": "stream",
     "text": [
      "grad:  1.0 2.0 tensor(-2.)\n",
      "grad:  2.0 4.0 tensor(-7.8400)\n",
      "grad:  3.0 6.0 tensor(-16.2288)\n",
      "process:  0 tensor(7.3159)\n",
      "grad:  1.0 2.0 tensor(-1.4786)\n",
      "grad:  2.0 4.0 tensor(-5.7962)\n",
      "grad:  3.0 6.0 tensor(-11.9981)\n",
      "process:  1 tensor(3.9988)\n",
      "grad:  1.0 2.0 tensor(-1.0932)\n",
      "grad:  2.0 4.0 tensor(-4.2852)\n",
      "grad:  3.0 6.0 tensor(-8.8704)\n",
      "process:  2 tensor(2.1857)\n",
      "grad:  1.0 2.0 tensor(-0.8082)\n",
      "grad:  2.0 4.0 tensor(-3.1681)\n",
      "grad:  3.0 6.0 tensor(-6.5580)\n",
      "process:  3 tensor(1.1946)\n",
      "grad:  1.0 2.0 tensor(-0.5975)\n",
      "grad:  2.0 4.0 tensor(-2.3422)\n",
      "grad:  3.0 6.0 tensor(-4.8484)\n",
      "process:  4 tensor(0.6530)\n",
      "grad:  1.0 2.0 tensor(-0.4417)\n",
      "grad:  2.0 4.0 tensor(-1.7316)\n",
      "grad:  3.0 6.0 tensor(-3.5845)\n",
      "process:  5 tensor(0.3569)\n",
      "grad:  1.0 2.0 tensor(-0.3266)\n",
      "grad:  2.0 4.0 tensor(-1.2802)\n",
      "grad:  3.0 6.0 tensor(-2.6500)\n",
      "process:  6 tensor(0.1951)\n",
      "grad:  1.0 2.0 tensor(-0.2414)\n",
      "grad:  2.0 4.0 tensor(-0.9465)\n",
      "grad:  3.0 6.0 tensor(-1.9592)\n",
      "process:  7 tensor(0.1066)\n",
      "grad:  1.0 2.0 tensor(-0.1785)\n",
      "grad:  2.0 4.0 tensor(-0.6997)\n",
      "grad:  3.0 6.0 tensor(-1.4485)\n",
      "process:  8 tensor(0.0583)\n",
      "grad:  1.0 2.0 tensor(-0.1320)\n",
      "grad:  2.0 4.0 tensor(-0.5173)\n",
      "grad:  3.0 6.0 tensor(-1.0709)\n",
      "process:  9 tensor(0.0319)\n",
      "predict (after training)  4 tensor(7.8049)\n"
     ]
    }
   ],
   "source": [
    "import torch\n",
    "from torch.autograd import Variable\n",
    "\n",
    "x_data = [1.0, 2.0, 3.0]\n",
    "y_data = [2.0, 4.0, 6.0]\n",
    "\n",
    "w = Variable(torch.Tensor([1.0]), requires_grad=True)\n",
    "\n",
    "def forward(x):\n",
    "    return x * w \n",
    "\n",
    "def loss(x, y):\n",
    "    y_pred = forward(x)\n",
    "    return (y_pred-y)*(y_pred-y)\n",
    "\n",
    "for epoch in range(10):\n",
    "    for x, y in zip(x_data, y_data):\n",
    "        l = loss(x, y) \n",
    "        l.backward()\n",
    "        print(\"grad: \", x, y, w.grad.data[0])\n",
    "        w.data = w.data - 0.01 * w.grad.data\n",
    "        w.grad.data.zero_()\n",
    "    print(\"process: \", epoch, l.data[0])\n",
    "\n",
    "print(\"predict (after training) \", 4, forward(4).data[0])"
   ]
  },
  {
   "cell_type": "code",
   "execution_count": null,
   "metadata": {},
   "outputs": [],
   "source": []
  }
 ],
 "metadata": {
  "kernelspec": {
   "display_name": "Python 3",
   "language": "python",
   "name": "python3"
  },
  "language_info": {
   "codemirror_mode": {
    "name": "ipython",
    "version": 3
   },
   "file_extension": ".py",
   "mimetype": "text/x-python",
   "name": "python",
   "nbconvert_exporter": "python",
   "pygments_lexer": "ipython3",
   "version": "3.6.5"
  }
 },
 "nbformat": 4,
 "nbformat_minor": 2
}
